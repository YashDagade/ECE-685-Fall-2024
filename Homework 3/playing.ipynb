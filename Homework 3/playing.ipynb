{
 "cells": [
  {
   "cell_type": "code",
   "execution_count": 10,
   "metadata": {},
   "outputs": [
    {
     "name": "stderr",
     "output_type": "stream",
     "text": [
      "/opt/anaconda3/lib/python3.12/site-packages/sklearn/manifold/_t_sne.py:1162: FutureWarning:\n",
      "\n",
      "'n_iter' was renamed to 'max_iter' in version 1.5 and will be removed in 1.7.\n",
      "\n"
     ]
    },
    {
     "data": {
      "application/vnd.plotly.v1+json": {
       "config": {
        "plotlyServerURL": "https://plot.ly"
       },
       "data": [
        {
         "marker": {
          "color": [
           "blue",
           "blue",
           "blue",
           "purple",
           "purple",
           "green",
           "green",
           "green",
           "green",
           "green",
           "orange",
           "orange",
           "orange",
           "orange",
           "orange",
           "red",
           "red",
           "red",
           "red",
           "brown",
           "brown",
           "brown",
           "cyan",
           "darkgreen",
           "darkgreen",
           "darkgreen",
           "pink",
           "pink",
           "pink",
           "yellow",
           "yellow"
          ],
          "opacity": 0.8,
          "size": 8
         },
         "mode": "markers+text",
         "text": [
          "woman",
          "man",
          "child",
          "king",
          "queen",
          "teacher",
          "professor",
          "student",
          "doctor",
          "nurse",
          "car",
          "bus",
          "train",
          "airplane",
          "bicycle",
          "banana",
          "apple",
          "orange",
          "grape",
          "skyscraper",
          "house",
          "castle",
          "bridge",
          "mountain",
          "river",
          "ocean",
          "school",
          "college",
          "university",
          "city",
          "village"
         ],
         "textposition": "top center",
         "type": "scatter3d",
         "x": [
          -134.2518768310547,
          119.0069351196289,
          -77.4180908203125,
          113.2225570678711,
          -183.22853088378906,
          148.8989715576172,
          -31.290678024291992,
          -58.37794876098633,
          -92.77671813964844,
          36.704383850097656,
          44.307899475097656,
          -1.8582508563995361,
          -59.17876052856445,
          -134.0558319091797,
          -34.12542724609375,
          87.41566467285156,
          -107.70759582519531,
          -79.91570281982422,
          -100.58419799804688,
          32.76545715332031,
          -1.8011834621429443,
          26.61591148376465,
          -31.349897384643555,
          31.49271583557129,
          19.163896560668945,
          -11.12353229522705,
          -4.253588676452637,
          -43.06668472290039,
          91.65547943115234,
          61.86445999145508,
          115.05533599853516
         ],
         "y": [
          10.455759048461914,
          90.1098403930664,
          -49.595550537109375,
          -19.279502868652344,
          21.356292724609375,
          -5.931683540344238,
          -138.55555725097656,
          -97.17872619628906,
          53.05897903442383,
          27.55238914489746,
          -123.48286437988281,
          112.78652954101562,
          -159.35858154296875,
          -62.31740951538086,
          141.88101196289062,
          -51.99283218383789,
          95.93777465820312,
          38.95839309692383,
          -48.28813934326172,
          122.87705993652344,
          8.345451354980469,
          95.78014373779297,
          57.69633483886719,
          55.13267135620117,
          -50.739105224609375,
          -74.84898376464844,
          -37.41136932373047,
          17.605981826782227,
          -101.40873718261719,
          -24.156003952026367,
          9.924209594726562
         ],
         "z": [
          -17.639543533325195,
          -75.4039077758789,
          60.153045654296875,
          -119.79102325439453,
          56.26693344116211,
          -10.412352561950684,
          -91.86730194091797,
          -41.5490837097168,
          68.85101318359375,
          -58.95506286621094,
          70.87384033203125,
          -102.6024169921875,
          34.831878662109375,
          -29.77019691467285,
          3.7683064937591553,
          134.03204345703125,
          -55.97206497192383,
          -106.41645812988281,
          -128.69906616210938,
          -14.433638572692871,
          91.20560455322266,
          92.53166961669922,
          166.687744140625,
          38.403587341308594,
          -82.48797607421875,
          152.912841796875,
          1.0034512281417847,
          -7.178030490875244,
          -28.148630142211914,
          27.302322387695312,
          67.73810577392578
         ]
        }
       ],
       "layout": {
        "scene": {
         "xaxis": {
          "title": {
           "text": "Dimension 1"
          }
         },
         "yaxis": {
          "title": {
           "text": "Dimension 2"
          }
         },
         "zaxis": {
          "title": {
           "text": "Dimension 3"
          }
         }
        },
        "template": {
         "data": {
          "bar": [
           {
            "error_x": {
             "color": "#2a3f5f"
            },
            "error_y": {
             "color": "#2a3f5f"
            },
            "marker": {
             "line": {
              "color": "#E5ECF6",
              "width": 0.5
             },
             "pattern": {
              "fillmode": "overlay",
              "size": 10,
              "solidity": 0.2
             }
            },
            "type": "bar"
           }
          ],
          "barpolar": [
           {
            "marker": {
             "line": {
              "color": "#E5ECF6",
              "width": 0.5
             },
             "pattern": {
              "fillmode": "overlay",
              "size": 10,
              "solidity": 0.2
             }
            },
            "type": "barpolar"
           }
          ],
          "carpet": [
           {
            "aaxis": {
             "endlinecolor": "#2a3f5f",
             "gridcolor": "white",
             "linecolor": "white",
             "minorgridcolor": "white",
             "startlinecolor": "#2a3f5f"
            },
            "baxis": {
             "endlinecolor": "#2a3f5f",
             "gridcolor": "white",
             "linecolor": "white",
             "minorgridcolor": "white",
             "startlinecolor": "#2a3f5f"
            },
            "type": "carpet"
           }
          ],
          "choropleth": [
           {
            "colorbar": {
             "outlinewidth": 0,
             "ticks": ""
            },
            "type": "choropleth"
           }
          ],
          "contour": [
           {
            "colorbar": {
             "outlinewidth": 0,
             "ticks": ""
            },
            "colorscale": [
             [
              0,
              "#0d0887"
             ],
             [
              0.1111111111111111,
              "#46039f"
             ],
             [
              0.2222222222222222,
              "#7201a8"
             ],
             [
              0.3333333333333333,
              "#9c179e"
             ],
             [
              0.4444444444444444,
              "#bd3786"
             ],
             [
              0.5555555555555556,
              "#d8576b"
             ],
             [
              0.6666666666666666,
              "#ed7953"
             ],
             [
              0.7777777777777778,
              "#fb9f3a"
             ],
             [
              0.8888888888888888,
              "#fdca26"
             ],
             [
              1,
              "#f0f921"
             ]
            ],
            "type": "contour"
           }
          ],
          "contourcarpet": [
           {
            "colorbar": {
             "outlinewidth": 0,
             "ticks": ""
            },
            "type": "contourcarpet"
           }
          ],
          "heatmap": [
           {
            "colorbar": {
             "outlinewidth": 0,
             "ticks": ""
            },
            "colorscale": [
             [
              0,
              "#0d0887"
             ],
             [
              0.1111111111111111,
              "#46039f"
             ],
             [
              0.2222222222222222,
              "#7201a8"
             ],
             [
              0.3333333333333333,
              "#9c179e"
             ],
             [
              0.4444444444444444,
              "#bd3786"
             ],
             [
              0.5555555555555556,
              "#d8576b"
             ],
             [
              0.6666666666666666,
              "#ed7953"
             ],
             [
              0.7777777777777778,
              "#fb9f3a"
             ],
             [
              0.8888888888888888,
              "#fdca26"
             ],
             [
              1,
              "#f0f921"
             ]
            ],
            "type": "heatmap"
           }
          ],
          "heatmapgl": [
           {
            "colorbar": {
             "outlinewidth": 0,
             "ticks": ""
            },
            "colorscale": [
             [
              0,
              "#0d0887"
             ],
             [
              0.1111111111111111,
              "#46039f"
             ],
             [
              0.2222222222222222,
              "#7201a8"
             ],
             [
              0.3333333333333333,
              "#9c179e"
             ],
             [
              0.4444444444444444,
              "#bd3786"
             ],
             [
              0.5555555555555556,
              "#d8576b"
             ],
             [
              0.6666666666666666,
              "#ed7953"
             ],
             [
              0.7777777777777778,
              "#fb9f3a"
             ],
             [
              0.8888888888888888,
              "#fdca26"
             ],
             [
              1,
              "#f0f921"
             ]
            ],
            "type": "heatmapgl"
           }
          ],
          "histogram": [
           {
            "marker": {
             "pattern": {
              "fillmode": "overlay",
              "size": 10,
              "solidity": 0.2
             }
            },
            "type": "histogram"
           }
          ],
          "histogram2d": [
           {
            "colorbar": {
             "outlinewidth": 0,
             "ticks": ""
            },
            "colorscale": [
             [
              0,
              "#0d0887"
             ],
             [
              0.1111111111111111,
              "#46039f"
             ],
             [
              0.2222222222222222,
              "#7201a8"
             ],
             [
              0.3333333333333333,
              "#9c179e"
             ],
             [
              0.4444444444444444,
              "#bd3786"
             ],
             [
              0.5555555555555556,
              "#d8576b"
             ],
             [
              0.6666666666666666,
              "#ed7953"
             ],
             [
              0.7777777777777778,
              "#fb9f3a"
             ],
             [
              0.8888888888888888,
              "#fdca26"
             ],
             [
              1,
              "#f0f921"
             ]
            ],
            "type": "histogram2d"
           }
          ],
          "histogram2dcontour": [
           {
            "colorbar": {
             "outlinewidth": 0,
             "ticks": ""
            },
            "colorscale": [
             [
              0,
              "#0d0887"
             ],
             [
              0.1111111111111111,
              "#46039f"
             ],
             [
              0.2222222222222222,
              "#7201a8"
             ],
             [
              0.3333333333333333,
              "#9c179e"
             ],
             [
              0.4444444444444444,
              "#bd3786"
             ],
             [
              0.5555555555555556,
              "#d8576b"
             ],
             [
              0.6666666666666666,
              "#ed7953"
             ],
             [
              0.7777777777777778,
              "#fb9f3a"
             ],
             [
              0.8888888888888888,
              "#fdca26"
             ],
             [
              1,
              "#f0f921"
             ]
            ],
            "type": "histogram2dcontour"
           }
          ],
          "mesh3d": [
           {
            "colorbar": {
             "outlinewidth": 0,
             "ticks": ""
            },
            "type": "mesh3d"
           }
          ],
          "parcoords": [
           {
            "line": {
             "colorbar": {
              "outlinewidth": 0,
              "ticks": ""
             }
            },
            "type": "parcoords"
           }
          ],
          "pie": [
           {
            "automargin": true,
            "type": "pie"
           }
          ],
          "scatter": [
           {
            "fillpattern": {
             "fillmode": "overlay",
             "size": 10,
             "solidity": 0.2
            },
            "type": "scatter"
           }
          ],
          "scatter3d": [
           {
            "line": {
             "colorbar": {
              "outlinewidth": 0,
              "ticks": ""
             }
            },
            "marker": {
             "colorbar": {
              "outlinewidth": 0,
              "ticks": ""
             }
            },
            "type": "scatter3d"
           }
          ],
          "scattercarpet": [
           {
            "marker": {
             "colorbar": {
              "outlinewidth": 0,
              "ticks": ""
             }
            },
            "type": "scattercarpet"
           }
          ],
          "scattergeo": [
           {
            "marker": {
             "colorbar": {
              "outlinewidth": 0,
              "ticks": ""
             }
            },
            "type": "scattergeo"
           }
          ],
          "scattergl": [
           {
            "marker": {
             "colorbar": {
              "outlinewidth": 0,
              "ticks": ""
             }
            },
            "type": "scattergl"
           }
          ],
          "scattermapbox": [
           {
            "marker": {
             "colorbar": {
              "outlinewidth": 0,
              "ticks": ""
             }
            },
            "type": "scattermapbox"
           }
          ],
          "scatterpolar": [
           {
            "marker": {
             "colorbar": {
              "outlinewidth": 0,
              "ticks": ""
             }
            },
            "type": "scatterpolar"
           }
          ],
          "scatterpolargl": [
           {
            "marker": {
             "colorbar": {
              "outlinewidth": 0,
              "ticks": ""
             }
            },
            "type": "scatterpolargl"
           }
          ],
          "scatterternary": [
           {
            "marker": {
             "colorbar": {
              "outlinewidth": 0,
              "ticks": ""
             }
            },
            "type": "scatterternary"
           }
          ],
          "surface": [
           {
            "colorbar": {
             "outlinewidth": 0,
             "ticks": ""
            },
            "colorscale": [
             [
              0,
              "#0d0887"
             ],
             [
              0.1111111111111111,
              "#46039f"
             ],
             [
              0.2222222222222222,
              "#7201a8"
             ],
             [
              0.3333333333333333,
              "#9c179e"
             ],
             [
              0.4444444444444444,
              "#bd3786"
             ],
             [
              0.5555555555555556,
              "#d8576b"
             ],
             [
              0.6666666666666666,
              "#ed7953"
             ],
             [
              0.7777777777777778,
              "#fb9f3a"
             ],
             [
              0.8888888888888888,
              "#fdca26"
             ],
             [
              1,
              "#f0f921"
             ]
            ],
            "type": "surface"
           }
          ],
          "table": [
           {
            "cells": {
             "fill": {
              "color": "#EBF0F8"
             },
             "line": {
              "color": "white"
             }
            },
            "header": {
             "fill": {
              "color": "#C8D4E3"
             },
             "line": {
              "color": "white"
             }
            },
            "type": "table"
           }
          ]
         },
         "layout": {
          "annotationdefaults": {
           "arrowcolor": "#2a3f5f",
           "arrowhead": 0,
           "arrowwidth": 1
          },
          "autotypenumbers": "strict",
          "coloraxis": {
           "colorbar": {
            "outlinewidth": 0,
            "ticks": ""
           }
          },
          "colorscale": {
           "diverging": [
            [
             0,
             "#8e0152"
            ],
            [
             0.1,
             "#c51b7d"
            ],
            [
             0.2,
             "#de77ae"
            ],
            [
             0.3,
             "#f1b6da"
            ],
            [
             0.4,
             "#fde0ef"
            ],
            [
             0.5,
             "#f7f7f7"
            ],
            [
             0.6,
             "#e6f5d0"
            ],
            [
             0.7,
             "#b8e186"
            ],
            [
             0.8,
             "#7fbc41"
            ],
            [
             0.9,
             "#4d9221"
            ],
            [
             1,
             "#276419"
            ]
           ],
           "sequential": [
            [
             0,
             "#0d0887"
            ],
            [
             0.1111111111111111,
             "#46039f"
            ],
            [
             0.2222222222222222,
             "#7201a8"
            ],
            [
             0.3333333333333333,
             "#9c179e"
            ],
            [
             0.4444444444444444,
             "#bd3786"
            ],
            [
             0.5555555555555556,
             "#d8576b"
            ],
            [
             0.6666666666666666,
             "#ed7953"
            ],
            [
             0.7777777777777778,
             "#fb9f3a"
            ],
            [
             0.8888888888888888,
             "#fdca26"
            ],
            [
             1,
             "#f0f921"
            ]
           ],
           "sequentialminus": [
            [
             0,
             "#0d0887"
            ],
            [
             0.1111111111111111,
             "#46039f"
            ],
            [
             0.2222222222222222,
             "#7201a8"
            ],
            [
             0.3333333333333333,
             "#9c179e"
            ],
            [
             0.4444444444444444,
             "#bd3786"
            ],
            [
             0.5555555555555556,
             "#d8576b"
            ],
            [
             0.6666666666666666,
             "#ed7953"
            ],
            [
             0.7777777777777778,
             "#fb9f3a"
            ],
            [
             0.8888888888888888,
             "#fdca26"
            ],
            [
             1,
             "#f0f921"
            ]
           ]
          },
          "colorway": [
           "#636efa",
           "#EF553B",
           "#00cc96",
           "#ab63fa",
           "#FFA15A",
           "#19d3f3",
           "#FF6692",
           "#B6E880",
           "#FF97FF",
           "#FECB52"
          ],
          "font": {
           "color": "#2a3f5f"
          },
          "geo": {
           "bgcolor": "white",
           "lakecolor": "white",
           "landcolor": "#E5ECF6",
           "showlakes": true,
           "showland": true,
           "subunitcolor": "white"
          },
          "hoverlabel": {
           "align": "left"
          },
          "hovermode": "closest",
          "mapbox": {
           "style": "light"
          },
          "paper_bgcolor": "white",
          "plot_bgcolor": "#E5ECF6",
          "polar": {
           "angularaxis": {
            "gridcolor": "white",
            "linecolor": "white",
            "ticks": ""
           },
           "bgcolor": "#E5ECF6",
           "radialaxis": {
            "gridcolor": "white",
            "linecolor": "white",
            "ticks": ""
           }
          },
          "scene": {
           "xaxis": {
            "backgroundcolor": "#E5ECF6",
            "gridcolor": "white",
            "gridwidth": 2,
            "linecolor": "white",
            "showbackground": true,
            "ticks": "",
            "zerolinecolor": "white"
           },
           "yaxis": {
            "backgroundcolor": "#E5ECF6",
            "gridcolor": "white",
            "gridwidth": 2,
            "linecolor": "white",
            "showbackground": true,
            "ticks": "",
            "zerolinecolor": "white"
           },
           "zaxis": {
            "backgroundcolor": "#E5ECF6",
            "gridcolor": "white",
            "gridwidth": 2,
            "linecolor": "white",
            "showbackground": true,
            "ticks": "",
            "zerolinecolor": "white"
           }
          },
          "shapedefaults": {
           "line": {
            "color": "#2a3f5f"
           }
          },
          "ternary": {
           "aaxis": {
            "gridcolor": "white",
            "linecolor": "white",
            "ticks": ""
           },
           "baxis": {
            "gridcolor": "white",
            "linecolor": "white",
            "ticks": ""
           },
           "bgcolor": "#E5ECF6",
           "caxis": {
            "gridcolor": "white",
            "linecolor": "white",
            "ticks": ""
           }
          },
          "title": {
           "x": 0.05
          },
          "xaxis": {
           "automargin": true,
           "gridcolor": "white",
           "linecolor": "white",
           "ticks": "",
           "title": {
            "standoff": 15
           },
           "zerolinecolor": "white",
           "zerolinewidth": 2
          },
          "yaxis": {
           "automargin": true,
           "gridcolor": "white",
           "linecolor": "white",
           "ticks": "",
           "title": {
            "standoff": 15
           },
           "zerolinecolor": "white",
           "zerolinewidth": 2
          }
         }
        },
        "title": {
         "text": "3D t-SNE Visualization of Word Embeddings (BERT)"
        }
       }
      }
     },
     "metadata": {},
     "output_type": "display_data"
    }
   ],
   "source": [
    "import numpy as np\n",
    "from sklearn.manifold import TSNE\n",
    "from transformers import BertTokenizer, BertModel\n",
    "import plotly.graph_objs as go\n",
    "import torch\n",
    "\n",
    "# Load pre-trained BERT model and tokenizer\n",
    "tokenizer = BertTokenizer.from_pretrained('bert-base-uncased')\n",
    "model = BertModel.from_pretrained('bert-base-uncased')\n",
    "\n",
    "# A more diverse list of words grouped by semantic categories\n",
    "words = [\n",
    "    \"woman\", \"man\", \"child\", \"king\", \"queen\", \"teacher\", \"professor\", \n",
    "    \"student\", \"doctor\", \"nurse\", \"car\", \"bus\", \"train\", \"airplane\", \n",
    "    \"bicycle\", \"banana\", \"apple\", \"orange\", \"grape\", \"skyscraper\", \n",
    "    \"house\", \"castle\", \"bridge\", \"mountain\", \"river\", \"ocean\", \"school\", \n",
    "    \"college\", \"university\", \"city\", \"village\"\n",
    "]\n",
    "\n",
    "# Tokenize words and get embeddings\n",
    "def get_word_embedding(word):\n",
    "    inputs = tokenizer(word, return_tensors=\"pt\")\n",
    "    outputs = model(**inputs)\n",
    "    # Get the embedding of the [CLS] token (first token)\n",
    "    return outputs.last_hidden_state[:, 0, :].detach().numpy()\n",
    "\n",
    "# Get embeddings for all words\n",
    "word_embeddings = np.array([get_word_embedding(word).squeeze() for word in words])\n",
    "\n",
    "# Reduce dimensionality using t-SNE (from 768D to 3D)\n",
    "tsne = TSNE(n_components=3, perplexity=5, n_iter=1000, random_state=42)\n",
    "word_embeddings_3d = tsne.fit_transform(word_embeddings)\n",
    "\n",
    "# Semantic categories for coloring (manual labeling of word groups)\n",
    "categories = [\n",
    "    'people', 'people', 'people', 'royalty', 'royalty', 'profession', 'profession',\n",
    "    'profession', 'profession', 'profession', 'vehicle', 'vehicle', 'vehicle', 'vehicle',\n",
    "    'vehicle', 'food', 'food', 'food', 'food', 'building',\n",
    "    'building', 'building', 'structure', 'nature', 'nature', 'nature', 'institution',\n",
    "    'institution', 'institution', 'location', 'location'\n",
    "]\n",
    "\n",
    "# Map categories to unique color codes\n",
    "category_colors = {\n",
    "    'people': 'blue',\n",
    "    'royalty': 'purple',\n",
    "    'profession': 'green',\n",
    "    'vehicle': 'orange',\n",
    "    'food': 'red',\n",
    "    'building': 'brown',\n",
    "    'structure': 'cyan',\n",
    "    'nature': 'darkgreen',\n",
    "    'institution': 'pink',\n",
    "    'location': 'yellow'\n",
    "}\n",
    "colors = [category_colors[cat] for cat in categories]\n",
    "\n",
    "# Prepare data for Plotly\n",
    "x = word_embeddings_3d[:, 0]\n",
    "y = word_embeddings_3d[:, 1]\n",
    "z = word_embeddings_3d[:, 2]\n",
    "\n",
    "# Create a 3D scatter plot with color coding for categories\n",
    "trace = go.Scatter3d(\n",
    "    x=x, \n",
    "    y=y, \n",
    "    z=z,\n",
    "    text=words,  # Labels for each point\n",
    "    mode='markers+text',\n",
    "    marker=dict(size=8, color=colors, opacity=0.8),  # Color by category\n",
    "    textposition='top center'\n",
    ")\n",
    "\n",
    "layout = go.Layout(\n",
    "    title='3D t-SNE Visualization of Word Embeddings (BERT)',\n",
    "    scene=dict(\n",
    "        xaxis=dict(title='Dimension 1'),\n",
    "        yaxis=dict(title='Dimension 2'),\n",
    "        zaxis=dict(title='Dimension 3')\n",
    "    ),\n",
    ")\n",
    "\n",
    "fig = go.Figure(data=[trace], layout=layout)\n",
    "\n",
    "# Show the interactive plot\n",
    "fig.show()\n"
   ]
  },
  {
   "cell_type": "code",
   "execution_count": 16,
   "metadata": {},
   "outputs": [
    {
     "name": "stdout",
     "output_type": "stream",
     "text": [
      "Loading FastText Model...\n",
      "Model loaded!\n",
      "The 10 closest words to 'student' are: ['students', 'studen', 'college-student', 'students-and', 'ex-student', 'non-student', 'teacher', 'grad-student', 'graduate-student', 'student-student']\n"
     ]
    }
   ],
   "source": [
    "import gensim.downloader as api\n",
    "import numpy as np\n",
    "from sklearn.metrics.pairwise import cosine_similarity\n",
    "\n",
    "# Load FastText pretrained model from Gensim\n",
    "print(\"Loading FastText Model...\")\n",
    "fasttext_model = api.load(\"fasttext-wiki-news-subwords-300\")\n",
    "print(\"Model loaded!\")\n",
    "\n",
    "# Get embedding for 'student'\n",
    "student_embedding = fasttext_model.get_vector('student')\n",
    "\n",
    "# Convert all FastText vectors into a single matrix (faster comparison)\n",
    "vocab_size = len(fasttext_model.index_to_key)\n",
    "embedding_matrix = np.zeros((vocab_size, fasttext_model.vector_size))\n",
    "\n",
    "for i, word in enumerate(fasttext_model.index_to_key):\n",
    "    embedding_matrix[i] = fasttext_model.get_vector(word)\n",
    "\n",
    "# Compute cosine similarities in a vectorized way (all at once)\n",
    "similarities = cosine_similarity([student_embedding], embedding_matrix)[0]\n",
    "\n",
    "# Get the top 10 most similar words (excluding 'student' itself)\n",
    "top_k = 10\n",
    "top_indices = similarities.argsort()[-top_k-1:][::-1][1:]  # Exclude 'student'\n",
    "\n",
    "# Get the corresponding words for the top 10 indices\n",
    "top_words = [fasttext_model.index_to_key[i] for i in top_indices]\n",
    "\n",
    "print(f\"The 10 closest words to 'student' are: {top_words}\")\n"
   ]
  },
  {
   "cell_type": "code",
   "execution_count": 24,
   "metadata": {},
   "outputs": [],
   "source": [
    "# Get embeddings for the words\n",
    "def get_embedding(word):\n",
    "    return fasttext_model.get_vector(word)\n",
    "\n",
    "# Perform vector arithmetic: queen - man + woman\n",
    "def word_vector_math(positive_words, negative_words):\n",
    "    result_vector = np.zeros(fasttext_model.vector_size)\n",
    "    \n",
    "    for word in positive_words:\n",
    "        result_vector += get_embedding(word)\n",
    "    for word in negative_words:\n",
    "        result_vector -= get_embedding(word)\n",
    "    \n",
    "    return result_vector\n",
    "\n",
    "# Example: king - man + woman = ?\n",
    "vector = word_vector_math(positive_words=['king', 'woman'], negative_words=['man'])\n",
    "\n",
    "\n",
    "def find_similar_words(vector, top_k=10):\n",
    "    \n",
    "    # Convert all FastText vectors into a single matrix (faster comparison)\n",
    "    vocab_size = len(fasttext_model.index_to_key)\n",
    "    embedding_matrix = np.zeros((vocab_size, fasttext_model.vector_size))\n",
    "\n",
    "    for i, word in enumerate(fasttext_model.index_to_key):\n",
    "        embedding_matrix[i] = fasttext_model.get_vector(word)\n",
    "\n",
    "    # Compute cosine similarities with the result vector\n",
    "    similarities = cosine_similarity([vector], embedding_matrix)[0]\n",
    "\n",
    "    # Get the top 10 most similar words\n",
    "    top_k = 10\n",
    "    top_indices = similarities.argsort()[-top_k:][::-1]  # Get top 10 in descending order\n",
    "\n",
    "    # Get the corresponding words for the top 10 indices\n",
    "    top_words = [fasttext_model.index_to_key[i] for i in top_indices]\n",
    "\n",
    "    return str(f\"The 10 closest words to this vector are: {top_words}\")\n"
   ]
  },
  {
   "cell_type": "code",
   "execution_count": 25,
   "metadata": {},
   "outputs": [
    {
     "data": {
      "text/plain": [
       "\"The 10 closest words to this vector are: ['paris', 'germany', 'berlin', 'germany.', 'munich', 'germanys', 'frankfurt', 'german', 'austria', 'dresden']\""
      ]
     },
     "execution_count": 25,
     "metadata": {},
     "output_type": "execute_result"
    }
   ],
   "source": [
    "vector_1 = word_vector_math(positive_words=['paris', 'germany'], negative_words=['france'])\n",
    "\n",
    "\n",
    "find_similar_words(vector_1)\n",
    "\n"
   ]
  },
  {
   "cell_type": "code",
   "execution_count": 26,
   "metadata": {},
   "outputs": [
    {
     "data": {
      "text/plain": [
       "'The 10 closest words to this vector are: [\\'he\\', \\'she\\', \\'He\\', \\'--she\\', \\'She\\', \\'-she\\', \\'heshe\\', \\'he-she\\', \\'.she\\', \"\\'she\"]'"
      ]
     },
     "execution_count": 26,
     "metadata": {},
     "output_type": "execute_result"
    }
   ],
   "source": [
    "vector_2 = word_vector_math(positive_words=['he', 'woman'], negative_words=['man'])\n",
    "\n",
    "find_similar_words(vector_2)\n"
   ]
  },
  {
   "cell_type": "code",
   "execution_count": 28,
   "metadata": {},
   "outputs": [
    {
     "data": {
      "text/plain": [
       "\"The 10 closest words to this vector are: ['wealth', 'rich', 'riches', 'wealth-', 'wealths', 'richness', 'wealth.', 'treasures', 'richest', 'wealthly']\""
      ]
     },
     "execution_count": 28,
     "metadata": {},
     "output_type": "execute_result"
    }
   ],
   "source": [
    "vector = word_vector_math(positive_words=['rich', 'wealth'], negative_words=['poor'])\n",
    "\n",
    "find_similar_words(vector)\n"
   ]
  },
  {
   "cell_type": "code",
   "execution_count": null,
   "metadata": {},
   "outputs": [],
   "source": []
  }
 ],
 "metadata": {
  "kernelspec": {
   "display_name": "base",
   "language": "python",
   "name": "python3"
  },
  "language_info": {
   "codemirror_mode": {
    "name": "ipython",
    "version": 3
   },
   "file_extension": ".py",
   "mimetype": "text/x-python",
   "name": "python",
   "nbconvert_exporter": "python",
   "pygments_lexer": "ipython3",
   "version": "3.12.4"
  }
 },
 "nbformat": 4,
 "nbformat_minor": 2
}
