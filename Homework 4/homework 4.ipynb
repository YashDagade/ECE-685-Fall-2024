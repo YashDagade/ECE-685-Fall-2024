{
 "cells": [
  {
   "cell_type": "markdown",
   "metadata": {},
   "source": [
    "# Problem 1: Sparse Encoding for Image Denoising (30pts)"
   ]
  },
  {
   "cell_type": "code",
   "execution_count": 5,
   "metadata": {},
   "outputs": [
    {
     "name": "stdout",
     "output_type": "stream",
     "text": [
      "Using device: mps\n"
     ]
    },
    {
     "name": "stderr",
     "output_type": "stream",
     "text": [
      "Epochs:   5%|▌         | 1/20 [00:03<00:59,  3.13s/it]"
     ]
    },
    {
     "name": "stdout",
     "output_type": "stream",
     "text": [
      "Epoch [1/20], Loss: 0.0266\n"
     ]
    },
    {
     "name": "stderr",
     "output_type": "stream",
     "text": [
      "Epochs:  10%|█         | 2/20 [00:06<00:57,  3.20s/it]"
     ]
    },
    {
     "name": "stdout",
     "output_type": "stream",
     "text": [
      "Epoch [2/20], Loss: 0.0189\n"
     ]
    },
    {
     "name": "stderr",
     "output_type": "stream",
     "text": [
      "Epochs:  15%|█▌        | 3/20 [00:09<00:51,  3.01s/it]"
     ]
    },
    {
     "name": "stdout",
     "output_type": "stream",
     "text": [
      "Epoch [3/20], Loss: 0.0176\n"
     ]
    },
    {
     "name": "stderr",
     "output_type": "stream",
     "text": [
      "Epochs:  20%|██        | 4/20 [00:11<00:46,  2.91s/it]"
     ]
    },
    {
     "name": "stdout",
     "output_type": "stream",
     "text": [
      "Epoch [4/20], Loss: 0.0169\n"
     ]
    },
    {
     "name": "stderr",
     "output_type": "stream",
     "text": [
      "Epochs:  25%|██▌       | 5/20 [00:14<00:42,  2.83s/it]"
     ]
    },
    {
     "name": "stdout",
     "output_type": "stream",
     "text": [
      "Epoch [5/20], Loss: 0.0163\n"
     ]
    },
    {
     "name": "stderr",
     "output_type": "stream",
     "text": [
      "Epochs:  30%|███       | 6/20 [00:17<00:38,  2.78s/it]"
     ]
    },
    {
     "name": "stdout",
     "output_type": "stream",
     "text": [
      "Epoch [6/20], Loss: 0.0160\n"
     ]
    },
    {
     "name": "stderr",
     "output_type": "stream",
     "text": [
      "Epochs:  35%|███▌      | 7/20 [00:19<00:35,  2.75s/it]"
     ]
    },
    {
     "name": "stdout",
     "output_type": "stream",
     "text": [
      "Epoch [7/20], Loss: 0.0157\n"
     ]
    },
    {
     "name": "stderr",
     "output_type": "stream",
     "text": [
      "Epochs:  40%|████      | 8/20 [00:22<00:32,  2.73s/it]"
     ]
    },
    {
     "name": "stdout",
     "output_type": "stream",
     "text": [
      "Epoch [8/20], Loss: 0.0155\n"
     ]
    },
    {
     "name": "stderr",
     "output_type": "stream",
     "text": [
      "Epochs:  45%|████▌     | 9/20 [00:25<00:29,  2.71s/it]"
     ]
    },
    {
     "name": "stdout",
     "output_type": "stream",
     "text": [
      "Epoch [9/20], Loss: 0.0154\n"
     ]
    },
    {
     "name": "stderr",
     "output_type": "stream",
     "text": [
      "Epochs:  50%|█████     | 10/20 [00:28<00:27,  2.70s/it]"
     ]
    },
    {
     "name": "stdout",
     "output_type": "stream",
     "text": [
      "Epoch [10/20], Loss: 0.0152\n"
     ]
    },
    {
     "name": "stderr",
     "output_type": "stream",
     "text": [
      "Epochs:  55%|█████▌    | 11/20 [00:30<00:24,  2.69s/it]"
     ]
    },
    {
     "name": "stdout",
     "output_type": "stream",
     "text": [
      "Epoch [11/20], Loss: 0.0151\n"
     ]
    },
    {
     "name": "stderr",
     "output_type": "stream",
     "text": [
      "Epochs:  60%|██████    | 12/20 [00:33<00:21,  2.69s/it]"
     ]
    },
    {
     "name": "stdout",
     "output_type": "stream",
     "text": [
      "Epoch [12/20], Loss: 0.0150\n"
     ]
    },
    {
     "name": "stderr",
     "output_type": "stream",
     "text": [
      "Epochs:  65%|██████▌   | 13/20 [00:36<00:18,  2.69s/it]"
     ]
    },
    {
     "name": "stdout",
     "output_type": "stream",
     "text": [
      "Epoch [13/20], Loss: 0.0149\n"
     ]
    },
    {
     "name": "stderr",
     "output_type": "stream",
     "text": [
      "Epochs:  70%|███████   | 14/20 [00:38<00:16,  2.68s/it]"
     ]
    },
    {
     "name": "stdout",
     "output_type": "stream",
     "text": [
      "Epoch [14/20], Loss: 0.0148\n"
     ]
    },
    {
     "name": "stderr",
     "output_type": "stream",
     "text": [
      "Epochs:  75%|███████▌  | 15/20 [00:41<00:13,  2.68s/it]"
     ]
    },
    {
     "name": "stdout",
     "output_type": "stream",
     "text": [
      "Epoch [15/20], Loss: 0.0148\n"
     ]
    },
    {
     "name": "stderr",
     "output_type": "stream",
     "text": [
      "Epochs:  80%|████████  | 16/20 [00:44<00:11,  2.84s/it]"
     ]
    },
    {
     "name": "stdout",
     "output_type": "stream",
     "text": [
      "Epoch [16/20], Loss: 0.0147\n"
     ]
    },
    {
     "name": "stderr",
     "output_type": "stream",
     "text": [
      "Epochs:  85%|████████▌ | 17/20 [00:47<00:08,  2.89s/it]"
     ]
    },
    {
     "name": "stdout",
     "output_type": "stream",
     "text": [
      "Epoch [17/20], Loss: 0.0147\n"
     ]
    },
    {
     "name": "stderr",
     "output_type": "stream",
     "text": [
      "Epochs:  90%|█████████ | 18/20 [00:50<00:05,  2.98s/it]"
     ]
    },
    {
     "name": "stdout",
     "output_type": "stream",
     "text": [
      "Epoch [18/20], Loss: 0.0147\n"
     ]
    },
    {
     "name": "stderr",
     "output_type": "stream",
     "text": [
      "Epochs:  95%|█████████▌| 19/20 [00:53<00:03,  3.02s/it]"
     ]
    },
    {
     "name": "stdout",
     "output_type": "stream",
     "text": [
      "Epoch [19/20], Loss: 0.0147\n"
     ]
    },
    {
     "name": "stderr",
     "output_type": "stream",
     "text": [
      "Epochs: 100%|██████████| 20/20 [00:56<00:00,  2.84s/it]"
     ]
    },
    {
     "name": "stdout",
     "output_type": "stream",
     "text": [
      "Epoch [20/20], Loss: 0.0146\n"
     ]
    },
    {
     "name": "stderr",
     "output_type": "stream",
     "text": [
      "\n"
     ]
    }
   ],
   "source": [
    "import torch\n",
    "import torch.nn as nn\n",
    "import torch.optim as optim\n",
    "from torch.utils.data import DataLoader\n",
    "from torchvision import datasets, transforms\n",
    "import matplotlib.pyplot as plt\n",
    "import numpy as np\n",
    "from tqdm import tqdm  # Added tqdm\n",
    "import random\n",
    "\n",
    "# Set random seeds for reproducibility\n",
    "torch.manual_seed(0)\n",
    "np.random.seed(0)\n",
    "\n",
    "# Hyperparameters\n",
    "input_dim = 28 * 28  # MNIST images are 28x28\n",
    "hidden_dim = int(1.5 * input_dim)  # 1.5 times the input dimension\n",
    "batch_size = 128\n",
    "learning_rate = 1e-3\n",
    "num_epochs = 20\n",
    "sigma = 0.5  # Standard deviation for Gaussian noise\n",
    "lambda_l1 = 1e-3  # Regularization parameter for L1 loss\n",
    "\n",
    "# Device configuration\n",
    "device = torch.device('mps' if torch.backends.mps.is_available() else 'cpu')\n",
    "print(f'Using device: {device}')\n",
    "\n",
    "# MNIST dataset\n",
    "transform = transforms.Compose([\n",
    "    transforms.ToTensor(),\n",
    "])\n",
    "\n",
    "train_dataset = datasets.MNIST(root='./data',\n",
    "                               train=True,\n",
    "                               transform=transform,\n",
    "                               download=True)\n",
    "\n",
    "test_dataset = datasets.MNIST(root='./data',\n",
    "                              train=False,\n",
    "                              transform=transform,\n",
    "                              download=True)\n",
    "\n",
    "# Data loaders\n",
    "train_loader = DataLoader(dataset=train_dataset,\n",
    "                          batch_size=batch_size,\n",
    "                          shuffle=True)\n",
    "\n",
    "test_loader = DataLoader(dataset=test_dataset,\n",
    "                         batch_size=batch_size,\n",
    "                         shuffle=False)\n",
    "\n",
    "# Define the Auto-Encoder model\n",
    "class AutoEncoder(nn.Module):\n",
    "    def __init__(self, input_dim, hidden_dim):\n",
    "        super(AutoEncoder, self).__init__()\n",
    "        # Encoder: Linear layer followed by ReLU\n",
    "        self.encoder = nn.Sequential(\n",
    "            nn.Linear(input_dim, hidden_dim),\n",
    "            nn.ReLU()\n",
    "        )\n",
    "        # Decoder: Linear layer\n",
    "        self.decoder = nn.Linear(hidden_dim, input_dim)\n",
    "    \n",
    "    def forward(self, x):\n",
    "        h = self.encoder(x)\n",
    "        out = self.decoder(h)\n",
    "        return out, h\n",
    "\n",
    "# Initialize the model, loss function, and optimizer\n",
    "model = AutoEncoder(input_dim, hidden_dim).to(device)\n",
    "criterion = nn.MSELoss()\n",
    "optimizer = optim.Adam(model.parameters(), lr=learning_rate)\n",
    "\n",
    "# Training loop with tqdm\n",
    "model.train()\n",
    "for epoch in tqdm(range(num_epochs), desc=\"Epochs\"):\n",
    "    total_loss = 0\n",
    "    for batch_idx, (data, _) in enumerate(tqdm(train_loader, desc=\"Batches\", leave=False)):\n",
    "        # Flatten the images\n",
    "        data = data.view(-1, input_dim).to(device)\n",
    "        # Add Gaussian noise\n",
    "        noise = torch.randn_like(data) * sigma\n",
    "        noisy_data = data + noise\n",
    "        noisy_data = torch.clamp(noisy_data, 0., 1.)  # Ensure values are between 0 and 1\n",
    "\n",
    "        # Forward pass\n",
    "        outputs, h = model(noisy_data)\n",
    "        mse_loss = criterion(outputs, data)\n",
    "        l1_loss = torch.mean(torch.abs(h))\n",
    "        loss = mse_loss + lambda_l1 * l1_loss\n",
    "\n",
    "        # Backward and optimize\n",
    "        optimizer.zero_grad()\n",
    "        loss.backward()\n",
    "        optimizer.step()\n",
    "\n",
    "        total_loss += loss.item()\n",
    "    \n",
    "    avg_loss = total_loss / len(train_loader)\n",
    "    print(f'Epoch [{epoch+1}/{num_epochs}], Loss: {avg_loss:.4f}')\n",
    "\n",
    "# Switch to evaluation mode\n",
    "model.eval()\n",
    "\n",
    "# Function to add Gaussian noise\n",
    "def add_noise(x, sigma):\n",
    "    noise = torch.randn_like(x) * sigma\n",
    "    noisy = x + noise\n",
    "    noisy = torch.clamp(noisy, 0., 1.)\n",
    "    return noisy"
   ]
  },
  {
   "cell_type": "code",
   "execution_count": 9,
   "metadata": {},
   "outputs": [
    {
     "data": {
      "image/png": "[encoded data removed]",
      "text/plain": [
       "<Figure size 1000x500 with 10 Axes>"
      ]
     },
     "metadata": {},
     "output_type": "display_data"
    }
   ],
   "source": [
    "# 1. Plot 5 input-output pairs using the test set\n",
    "\n",
    "\n",
    "# Get a batch from the test loader\n",
    "test_iter = iter(test_loader)\n",
    "test_images, _ = next(test_iter)\n",
    "test_images = test_images.view(-1, input_dim).to(device)\n",
    "\n",
    "# Select 5 random samples\n",
    "indices = random.sample(range(test_images.size(0)), 5)\n",
    "sample_images = test_images[indices]\n",
    "noisy_samples = add_noise(sample_images, sigma)\n",
    "\n",
    "# Pass through the auto-encoder\n",
    "with torch.no_grad():\n",
    "    reconstructed, _ = model(noisy_samples)\n",
    "\n",
    "# Move to CPU and reshape for plotting\n",
    "sample_images = sample_images.cpu().numpy()\n",
    "noisy_samples = noisy_samples.cpu().numpy()\n",
    "reconstructed = reconstructed.cpu().numpy()\n",
    "\n",
    "# Plotting\n",
    "fig, axes = plt.subplots(2, 5, figsize=(10, 5))\n",
    "for i in range(5):\n",
    "    # Noisy input\n",
    "    axes[0, i].imshow(noisy_samples[i].reshape(28, 28), cmap='gray')\n",
    "    axes[0, i].set_title('Noisy Input')\n",
    "    axes[0, i].axis('off')\n",
    "    \n",
    "    # Denoised output\n",
    "    axes[1, i].imshow(reconstructed[i].reshape(28, 28), cmap='gray')\n",
    "    axes[1, i].set_title('Denoised Output')\n",
    "    axes[1, i].axis('off')\n",
    "\n",
    "plt.tight_layout()\n",
    "plt.show()"
   ]
  },
  {
   "cell_type": "code",
   "execution_count": 13,
   "metadata": {},
   "outputs": [
    {
     "data": {
      "image/png": "[encoded data removed]",
      "text/plain": [
       "<Figure size 1500x300 with 5 Axes>"
      ]
     },
     "metadata": {},
     "output_type": "display_data"
    }
   ],
   "source": [
    "# 2. Plot the top 5 dictionary vectors in D with the largest corresponding |h_i|\n",
    "# First, gather all h from the test set\n",
    "all_h = []\n",
    "with torch.no_grad():\n",
    "    for data, _ in test_loader:\n",
    "        data = data.view(-1, input_dim).to(device)\n",
    "        noisy_data = add_noise(data, sigma)\n",
    "        _, h = model(noisy_data)\n",
    "        all_h.append(torch.abs(h))\n",
    "# Concatenate all h\n",
    "all_h = torch.cat(all_h, dim=0)  # Shape: [num_test_samples, hidden_dim]\n",
    "\n",
    "# Compute average |h_i| across all test samples\n",
    "avg_h = torch.mean(all_h, dim=0)  # Shape: [hidden_dim]\n",
    "\n",
    "# Get the indices of top 5 h_i\n",
    "top5_indices = torch.topk(avg_h, 5).indices.cpu().numpy()\n",
    "\n",
    "# Get the corresponding dictionary vectors from D (decoder weights)\n",
    "# Decoder weight shape: [input_dim, hidden_dim]\n",
    "D = model.decoder.weight.data.cpu().numpy().T  # Shape: [hidden_dim, input_dim]\n",
    "\n",
    "top5_D = D[top5_indices]  # Shape: [5, input_dim]\n",
    "\n",
    "# Plot the top 5 dictionary vectors\n",
    "fig, axes = plt.subplots(1, 5, figsize=(15, 3))\n",
    "for i in range(5):\n",
    "    axes[i].imshow(top5_D[i].reshape(28, 28), cmap='gray')\n",
    "    axes[i].set_title(f'Dictionary {top5_indices[i]}')\n",
    "    axes[i].axis('off')\n",
    "\n",
    "plt.tight_layout()\n",
    "plt.show()"
   ]
  },
  {
   "cell_type": "markdown",
   "metadata": {},
   "source": [
    "# Probem 2: Modified Probablistic PCA on MNIST (30pts)"
   ]
  },
  {
   "cell_type": "code",
   "execution_count": 14,
   "metadata": {},
   "outputs": [],
   "source": [
    "class PPCA(nn.Module):\n",
    "    def __init__(self, input_dim, latent_dim):\n",
    "        super(PPCA, self).__init__()\n",
    "        self.input_dim = input_dim\n",
    "        self.latent_dim = latent_dim\n",
    "        \n",
    "        # Initialize W, mu, and log_sigma as learnable parameters\n",
    "        self.W = nn.Parameter(torch.randn(input_dim, latent_dim) * 0.01)\n",
    "        self.mu = nn.Parameter(torch.zeros(input_dim))\n",
    "        self.log_sigma = nn.Parameter(torch.zeros(input_dim))  # Log to ensure positivity\n",
    "\n",
    "    def forward(self, x):\n",
    "        \"\"\"\n",
    "        Computes the negative log-likelihood for PPCA.\n",
    "        \"\"\"\n",
    "        # Compute Sigma = W W^T + diag(sigma^2)\n",
    "        sigma = torch.exp(self.log_sigma)  # Ensure positivity\n",
    "        Sigma = self.W @ self.W.t() + torch.diag(sigma ** 2)  # Shape: [D, D]\n",
    "\n",
    "        # Compute (x - mu)\n",
    "        x_centered = x - self.mu  # Shape: [batch_size, D]\n",
    "\n",
    "        # Compute Sigma inverse and log determinant using Cholesky decomposition\n",
    "        # Adding a small epsilon for numerical stability\n",
    "        epsilon = 1e-6\n",
    "        try:\n",
    "            L = torch.linalg.cholesky(Sigma + epsilon * torch.eye(self.input_dim).to(Sigma.device))\n",
    "        except RuntimeError as e:\n",
    "            print(\"Cholesky decomposition failed. Adding more epsilon.\")\n",
    "            L = torch.linalg.cholesky(Sigma + (epsilon*10) * torch.eye(self.input_dim).to(Sigma.device))\n",
    "        \n",
    "        # Solve for y: L y = (x - mu).T\n",
    "        # Since Sigma is the same for all samples in the batch, we can compute y for the entire batch at once\n",
    "        # y = L^{-1} (x - mu).T\n",
    "        # Compute log determinant: log det(Sigma) = 2 * sum(log(diag(L)))\n",
    "        log_det_Sigma = 2.0 * torch.sum(torch.log(torch.diagonal(L, dim1=0, dim2=1)))\n",
    "        \n",
    "        # Compute quadratic term: (x - mu)^T Sigma^{-1} (x - mu)\n",
    "        # First solve L y = (x - mu).T for y\n",
    "        y = torch.linalg.solve_triangular(L, x_centered.t(), upper=False)  # Shape: [D, batch_size]\n",
    "        # Then compute squared Mahalanobis distance\n",
    "        quad_form = torch.sum(y ** 2, dim=0)  # Shape: [batch_size]\n",
    "        \n",
    "        # Compute negative log-likelihood\n",
    "        # NLL = 0.5 * (quad_form + log_det_Sigma + D * log(2*pi))\n",
    "        nll = 0.5 * (quad_form + log_det_Sigma + self.input_dim * torch.log(torch.tensor(2.0 * np.pi)))\n",
    "        # Return average NLL over the batch\n",
    "        return torch.mean(nll)"
   ]
  },
  {
   "cell_type": "code",
   "execution_count": 20,
   "metadata": {},
   "outputs": [
    {
     "name": "stderr",
     "output_type": "stream",
     "text": [
      "<>:19: SyntaxWarning: invalid escape sequence '\\['\n",
      "<>:19: SyntaxWarning: invalid escape sequence '\\['\n",
      "/var/folders/5m/w0rlpsxd7yx_97nl1gx0dfzm0000gn/T/ipykernel_10967/355182449.py:19: SyntaxWarning: invalid escape sequence '\\['\n",
      "  \"\"\"\n"
     ]
    }
   ],
   "source": [
    "# Assuming the necessary libraries are already imported as per your instruction.\n",
    "\n",
    "# Define the PPCA model\n",
    "class PPCA(nn.Module):\n",
    "    def __init__(self, input_dim, latent_dim):\n",
    "        super(PPCA, self).__init__()\n",
    "        self.input_dim = input_dim\n",
    "        self.latent_dim = latent_dim\n",
    "        \n",
    "        # Initialize W, mu, and log_sigma as learnable parameters\n",
    "        # W: [D, n], initialized with small random values\n",
    "        self.W = nn.Parameter(torch.randn(input_dim, latent_dim) * 0.01)\n",
    "        # mu: [D], initialized to zeros\n",
    "        self.mu = nn.Parameter(torch.zeros(input_dim))\n",
    "        # log_sigma: [D], initialized to zeros to ensure sigma = 1 initially\n",
    "        self.log_sigma = nn.Parameter(torch.zeros(input_dim))  # Log to ensure positivity\n",
    "\n",
    "    def forward(self, x):\n",
    "        \"\"\"\n",
    "        Computes the negative log-likelihood for PPCA as per the provided formula:\n",
    "        \\[\n",
    "        \\ell (W, \\mu, \\sigma^2) = \\sum_{i=1}^N \\left( \\frac{1}{2} \\log |C| + \\frac{1}{2} (x^{(i)} - \\mu)^T C^{-1} (x^{(i)} - \\mu) \\right)\n",
    "        \\]\n",
    "        where \\( C = W W^T + \\text{diag}(\\sigma^2) \\).\n",
    "        \"\"\"\n",
    "        # Compute sigma = exp(log_sigma) to ensure positivity\n",
    "        sigma = torch.exp(self.log_sigma)  # Shape: [D]\n",
    "        # Construct covariance matrix C = W W^T + diag(sigma^2)\n",
    "        C = self.W @ self.W.t() + torch.diag(sigma ** 2)  # Shape: [D, D]\n",
    "        \n",
    "        # Compute (x - mu)\n",
    "        x_centered = x - self.mu  # Shape: [batch_size, D]\n",
    "        \n",
    "        # Compute log determinant of C using Cholesky decomposition\n",
    "        # Add a small epsilon to the diagonal for numerical stability\n",
    "        epsilon = 1e-6\n",
    "        try:\n",
    "            L = torch.linalg.cholesky(C + epsilon * torch.eye(self.input_dim).to(C.device))\n",
    "        except RuntimeError as e:\n",
    "            print(\"Cholesky decomposition failed. Adding more epsilon.\")\n",
    "            L = torch.linalg.cholesky(C + (epsilon * 10) * torch.eye(self.input_dim).to(C.device))\n",
    "        \n",
    "        # Compute log |C| = 2 * sum(log(diag(L)))\n",
    "        log_det_C = 2.0 * torch.sum(torch.log(torch.diagonal(L)))\n",
    "        \n",
    "        # Solve for y: L y = (x - mu).T\n",
    "        # Using torch.triangular_solve for better numerical stability\n",
    "        y = torch.linalg.solve_triangular(L, x_centered.t(), upper=False)  # Shape: [D, batch_size]\n",
    "        \n",
    "        # Compute quadratic term: sum over batch of (y^T y)\n",
    "        # Each y[:, i] corresponds to a sample\n",
    "        quad_form = torch.sum(y ** 2, dim=0)  # Shape: [batch_size]\n",
    "        \n",
    "        # Compute the loss as per the provided formula (excluding D * log(2*pi))\n",
    "        # Each sample contributes: 0.5 * log_det_C + 0.5 * quad_form\n",
    "        # Sum over all samples\n",
    "        loss = 0.5 * log_det_C * x.size(0) + 0.5 * torch.sum(quad_form)\n",
    "        \n",
    "        return loss\n",
    "\n",
    "# Define the training function\n",
    "def train_ppca(latent_dim, train_loader, device, num_epochs=50, learning_rate=1e-3):\n",
    "    input_dim = 28 * 28  # MNIST images are 28x28\n",
    "    model = PPCA(input_dim=input_dim, latent_dim=latent_dim).to(device)\n",
    "    optimizer = optim.Adam(model.parameters(), lr=learning_rate)\n",
    "    \n",
    "    model.train()\n",
    "    for epoch in range(num_epochs):\n",
    "        epoch_loss = 0.0\n",
    "        with tqdm(train_loader, desc=f\"Epoch {epoch+1}/{num_epochs}\", leave=False) as tepoch:\n",
    "            for batch_idx, (data, _) in enumerate(tepoch):\n",
    "                data = data.view(-1, input_dim).to(device)  # Flatten the images\n",
    "                optimizer.zero_grad()\n",
    "                loss = model(data)\n",
    "                loss.backward()\n",
    "                optimizer.step()\n",
    "                \n",
    "                epoch_loss += loss.item()\n",
    "                tepoch.set_postfix(loss=loss.item())\n",
    "        print(f\"Epoch [{epoch+1}/{num_epochs}] Average Loss: {epoch_loss:.4f}\")\n",
    "    return model\n",
    "\n",
    "# Define visualization functions\n",
    "def visualize_latent_space(model, test_loader, device, latent_dim, n_components=2):\n",
    "    \"\"\"\n",
    "    Projects the test set into the latent space and visualizes it.\n",
    "    For n_components=2, creates a 2D scatter plot.\n",
    "    For higher dimensions, applies PCA for visualization.\n",
    "    \"\"\"\n",
    "    model.eval()\n",
    "    latent_representations = []\n",
    "    labels_list = []\n",
    "    with torch.no_grad():\n",
    "        for data, labels in test_loader:\n",
    "            data = data.view(-1, 28*28).to(device)\n",
    "            # Compute posterior mean of z given x\n",
    "            # E[z | x] = (W^T C^{-1}) (x - mu)\n",
    "            # First compute C^{-1} (x - mu)\n",
    "            sigma = torch.exp(model.log_sigma)\n",
    "            C = model.W @ model.W.t() + torch.diag(sigma ** 2).to(device)\n",
    "            # Compute Cholesky decomposition\n",
    "            epsilon = 1e-6\n",
    "            try:\n",
    "                L = torch.linalg.cholesky(C + epsilon * torch.eye(model.input_dim).to(device))\n",
    "            except RuntimeError as e:\n",
    "                print(\"Cholesky decomposition failed during latent projection. Adding more epsilon.\")\n",
    "                L = torch.linalg.cholesky(C + (epsilon * 10) * torch.eye(model.input_dim).to(device))\n",
    "            # Solve L y = (x - mu).T\n",
    "            y = torch.linalg.solve_triangular(L, (data - model.mu).t(), upper=False)  # [D, batch_size]\n",
    "            # Solve L^T z = y\n",
    "            z = torch.linalg.solve_triangular(L.t(), y, upper=True)  # [D, batch_size]\n",
    "            # Compute E[z | x] = W^T z\n",
    "            latent_z = model.W.t() @ z  # [n, batch_size]\n",
    "            latent_z = latent_z.t()  # [batch_size, n]\n",
    "            latent_representations.append(latent_z.cpu())\n",
    "            labels_list.append(labels)\n",
    "    \n",
    "    latent_representations = torch.cat(latent_representations, dim=0).numpy()\n",
    "    labels_list = torch.cat(labels_list, dim=0).numpy()\n",
    "    \n",
    "    if latent_dim == 2:\n",
    "        plt.figure(figsize=(8, 6))\n",
    "        scatter = plt.scatter(latent_representations[:,0], latent_representations[:,1], c=labels_list, cmap='tab10', alpha=0.6, s=10)\n",
    "        plt.colorbar(scatter, ticks=range(10))\n",
    "        plt.title(f\"Latent Space Projection (n={latent_dim})\")\n",
    "        plt.xlabel(\"Dimension 1\")\n",
    "        plt.ylabel(\"Dimension 2\")\n",
    "        plt.show()\n",
    "    else:\n",
    "        # For higher dimensions, reduce to 2D using standard PCA for visualization\n",
    "        from sklearn.decomposition import PCA\n",
    "        pca = PCA(n_components=2)\n",
    "        reduced = pca.fit_transform(latent_representations)\n",
    "        plt.figure(figsize=(8, 6))\n",
    "        scatter = plt.scatter(reduced[:,0], reduced[:,1], c=labels_list, cmap='tab10', alpha=0.6, s=10)\n",
    "        plt.colorbar(scatter, ticks=range(10))\n",
    "        plt.title(f\"Latent Space Projection with PCA (Original n={latent_dim})\")\n",
    "        plt.xlabel(\"PCA Dimension 1\")\n",
    "        plt.ylabel(\"PCA Dimension 2\")\n",
    "        plt.show()\n",
    "\n",
    "def generate_samples(model, device, latent_dim, num_samples=10):\n",
    "    \"\"\"\n",
    "    Generates new samples by sampling z ~ N(0, I) and passing through the PPCA model.\n",
    "    \"\"\"\n",
    "    model.eval()\n",
    "    with torch.no_grad():\n",
    "        # Sample z from standard normal\n",
    "        z = torch.randn(num_samples, latent_dim).to(device)  # Shape: [num_samples, n]\n",
    "        # Compute x_mean = W z + mu\n",
    "        x_mean = model.W @ z.t() + model.mu.unsqueeze(1)  # Shape: [D, num_samples]\n",
    "        # Compute sigma = exp(log_sigma)\n",
    "        sigma = torch.exp(model.log_sigma).unsqueeze(1)  # Shape: [D, 1]\n",
    "        # Sample epsilon ~ N(0, sigma^2)\n",
    "        epsilon = torch.randn_like(x_mean) * sigma  # Shape: [D, num_samples]\n",
    "        # Generate x = x_mean + epsilon\n",
    "        x_generated = x_mean + epsilon  # Shape: [D, num_samples]\n",
    "        # Clamp to [0, 1]\n",
    "        x_generated = torch.clamp(x_generated, 0., 1.)\n",
    "        x_generated = x_generated.t().cpu().numpy()  # Shape: [num_samples, D]\n",
    "    \n",
    "    # Plot the generated samples\n",
    "    fig, axes = plt.subplots(1, num_samples, figsize=(num_samples, 1.5))\n",
    "    for i in range(num_samples):\n",
    "        axes[i].imshow(x_generated[i].reshape(28, 28), cmap='gray')\n",
    "        axes[i].axis('off')\n",
    "    plt.suptitle(f\"Generated Samples (n={latent_dim})\")\n",
    "    plt.show()\n"
   ]
  },
  {
   "cell_type": "code",
   "execution_count": null,
   "metadata": {},
   "outputs": [
    {
     "name": "stdout",
     "output_type": "stream",
     "text": [
      "Using device: cpu\n",
      "\n",
      "=== Training PPCA with latent dimension: 2 ===\n"
     ]
    },
    {
     "name": "stderr",
     "output_type": "stream",
     "text": [
      "                                                                        \r"
     ]
    },
    {
     "name": "stdout",
     "output_type": "stream",
     "text": [
      "Epoch [1/50] Average Loss: 581.2667\n"
     ]
    },
    {
     "name": "stderr",
     "output_type": "stream",
     "text": [
      "                                                                        \r"
     ]
    },
    {
     "name": "stdout",
     "output_type": "stream",
     "text": [
      "Epoch [2/50] Average Loss: 277.4589\n"
     ]
    },
    {
     "name": "stderr",
     "output_type": "stream",
     "text": [
      "                                                                            \r"
     ]
    },
    {
     "name": "stdout",
     "output_type": "stream",
     "text": [
      "Epoch [3/50] Average Loss: 36.2584\n"
     ]
    },
    {
     "name": "stderr",
     "output_type": "stream",
     "text": [
      "                                                                          \r"
     ]
    },
    {
     "name": "stdout",
     "output_type": "stream",
     "text": [
      "Epoch [4/50] Average Loss: -159.3151\n"
     ]
    },
    {
     "name": "stderr",
     "output_type": "stream",
     "text": [
      "                                                                         \r"
     ]
    },
    {
     "name": "stdout",
     "output_type": "stream",
     "text": [
      "Epoch [5/50] Average Loss: -323.0490\n"
     ]
    },
    {
     "name": "stderr",
     "output_type": "stream",
     "text": [
      "                                                                         \r"
     ]
    },
    {
     "name": "stdout",
     "output_type": "stream",
     "text": [
      "Epoch [6/50] Average Loss: -462.4073\n"
     ]
    },
    {
     "name": "stderr",
     "output_type": "stream",
     "text": [
      "                                                                         \r"
     ]
    },
    {
     "name": "stdout",
     "output_type": "stream",
     "text": [
      "Epoch [7/50] Average Loss: -581.6404\n"
     ]
    },
    {
     "name": "stderr",
     "output_type": "stream",
     "text": [
      "                                                                         \r"
     ]
    },
    {
     "name": "stdout",
     "output_type": "stream",
     "text": [
      "Epoch [8/50] Average Loss: -683.1290\n"
     ]
    },
    {
     "name": "stderr",
     "output_type": "stream",
     "text": [
      "                                                                         \r"
     ]
    },
    {
     "name": "stdout",
     "output_type": "stream",
     "text": [
      "Epoch [9/50] Average Loss: -769.0927\n"
     ]
    },
    {
     "name": "stderr",
     "output_type": "stream",
     "text": [
      "                                                                          \r"
     ]
    },
    {
     "name": "stdout",
     "output_type": "stream",
     "text": [
      "Epoch [10/50] Average Loss: -841.9242\n"
     ]
    },
    {
     "name": "stderr",
     "output_type": "stream",
     "text": [
      "                                                                          \r"
     ]
    },
    {
     "name": "stdout",
     "output_type": "stream",
     "text": [
      "Epoch [11/50] Average Loss: -903.7269\n"
     ]
    },
    {
     "name": "stderr",
     "output_type": "stream",
     "text": [
      "                                                                          \r"
     ]
    },
    {
     "ename": "KeyboardInterrupt",
     "evalue": "",
     "output_type": "error",
     "traceback": [
      "\u001b[0;31m---------------------------------------------------------------------------\u001b[0m",
      "\u001b[0;31mKeyboardInterrupt\u001b[0m                         Traceback (most recent call last)",
      "Cell \u001b[0;32mIn[19], line 44\u001b[0m\n\u001b[1;32m     42\u001b[0m \u001b[38;5;28;01mfor\u001b[39;00m latent_dim \u001b[38;5;129;01min\u001b[39;00m latent_dims:\n\u001b[1;32m     43\u001b[0m     \u001b[38;5;28mprint\u001b[39m(\u001b[38;5;124mf\u001b[39m\u001b[38;5;124m\"\u001b[39m\u001b[38;5;130;01m\\n\u001b[39;00m\u001b[38;5;124m=== Training PPCA with latent dimension: \u001b[39m\u001b[38;5;132;01m{\u001b[39;00mlatent_dim\u001b[38;5;132;01m}\u001b[39;00m\u001b[38;5;124m ===\u001b[39m\u001b[38;5;124m\"\u001b[39m)\n\u001b[0;32m---> 44\u001b[0m     model \u001b[38;5;241m=\u001b[39m train_ppca(latent_dim\u001b[38;5;241m=\u001b[39mlatent_dim, \n\u001b[1;32m     45\u001b[0m                       train_loader\u001b[38;5;241m=\u001b[39mtrain_loader, \n\u001b[1;32m     46\u001b[0m                       device\u001b[38;5;241m=\u001b[39mdevice, \n\u001b[1;32m     47\u001b[0m                       num_epochs\u001b[38;5;241m=\u001b[39m\u001b[38;5;241m50\u001b[39m, \n\u001b[1;32m     48\u001b[0m                       learning_rate\u001b[38;5;241m=\u001b[39m\u001b[38;5;241m1e-3\u001b[39m)\n\u001b[1;32m     50\u001b[0m     \u001b[38;5;66;03m# Visualize the latent space\u001b[39;00m\n\u001b[1;32m     51\u001b[0m     visualize_latent_space(model, test_loader, device, latent_dim)\n",
      "Cell \u001b[0;32mIn[16], line 14\u001b[0m, in \u001b[0;36mtrain_ppca\u001b[0;34m(latent_dim, train_loader, device, num_epochs, learning_rate)\u001b[0m\n\u001b[1;32m     12\u001b[0m data \u001b[38;5;241m=\u001b[39m data\u001b[38;5;241m.\u001b[39mview(\u001b[38;5;241m-\u001b[39m\u001b[38;5;241m1\u001b[39m, input_dim)\u001b[38;5;241m.\u001b[39mto(device)  \u001b[38;5;66;03m# Flatten the images\u001b[39;00m\n\u001b[1;32m     13\u001b[0m optimizer\u001b[38;5;241m.\u001b[39mzero_grad()\n\u001b[0;32m---> 14\u001b[0m loss \u001b[38;5;241m=\u001b[39m model(data)\n\u001b[1;32m     15\u001b[0m loss\u001b[38;5;241m.\u001b[39mbackward()\n\u001b[1;32m     16\u001b[0m optimizer\u001b[38;5;241m.\u001b[39mstep()\n",
      "File \u001b[0;32m/opt/anaconda3/lib/python3.12/site-packages/torch/nn/modules/module.py:1553\u001b[0m, in \u001b[0;36mModule._wrapped_call_impl\u001b[0;34m(self, *args, **kwargs)\u001b[0m\n\u001b[1;32m   1551\u001b[0m     \u001b[38;5;28;01mreturn\u001b[39;00m \u001b[38;5;28mself\u001b[39m\u001b[38;5;241m.\u001b[39m_compiled_call_impl(\u001b[38;5;241m*\u001b[39margs, \u001b[38;5;241m*\u001b[39m\u001b[38;5;241m*\u001b[39mkwargs)  \u001b[38;5;66;03m# type: ignore[misc]\u001b[39;00m\n\u001b[1;32m   1552\u001b[0m \u001b[38;5;28;01melse\u001b[39;00m:\n\u001b[0;32m-> 1553\u001b[0m     \u001b[38;5;28;01mreturn\u001b[39;00m \u001b[38;5;28mself\u001b[39m\u001b[38;5;241m.\u001b[39m_call_impl(\u001b[38;5;241m*\u001b[39margs, \u001b[38;5;241m*\u001b[39m\u001b[38;5;241m*\u001b[39mkwargs)\n",
      "File \u001b[0;32m/opt/anaconda3/lib/python3.12/site-packages/torch/nn/modules/module.py:1562\u001b[0m, in \u001b[0;36mModule._call_impl\u001b[0;34m(self, *args, **kwargs)\u001b[0m\n\u001b[1;32m   1557\u001b[0m \u001b[38;5;66;03m# If we don't have any hooks, we want to skip the rest of the logic in\u001b[39;00m\n\u001b[1;32m   1558\u001b[0m \u001b[38;5;66;03m# this function, and just call forward.\u001b[39;00m\n\u001b[1;32m   1559\u001b[0m \u001b[38;5;28;01mif\u001b[39;00m \u001b[38;5;129;01mnot\u001b[39;00m (\u001b[38;5;28mself\u001b[39m\u001b[38;5;241m.\u001b[39m_backward_hooks \u001b[38;5;129;01mor\u001b[39;00m \u001b[38;5;28mself\u001b[39m\u001b[38;5;241m.\u001b[39m_backward_pre_hooks \u001b[38;5;129;01mor\u001b[39;00m \u001b[38;5;28mself\u001b[39m\u001b[38;5;241m.\u001b[39m_forward_hooks \u001b[38;5;129;01mor\u001b[39;00m \u001b[38;5;28mself\u001b[39m\u001b[38;5;241m.\u001b[39m_forward_pre_hooks\n\u001b[1;32m   1560\u001b[0m         \u001b[38;5;129;01mor\u001b[39;00m _global_backward_pre_hooks \u001b[38;5;129;01mor\u001b[39;00m _global_backward_hooks\n\u001b[1;32m   1561\u001b[0m         \u001b[38;5;129;01mor\u001b[39;00m _global_forward_hooks \u001b[38;5;129;01mor\u001b[39;00m _global_forward_pre_hooks):\n\u001b[0;32m-> 1562\u001b[0m     \u001b[38;5;28;01mreturn\u001b[39;00m forward_call(\u001b[38;5;241m*\u001b[39margs, \u001b[38;5;241m*\u001b[39m\u001b[38;5;241m*\u001b[39mkwargs)\n\u001b[1;32m   1564\u001b[0m \u001b[38;5;28;01mtry\u001b[39;00m:\n\u001b[1;32m   1565\u001b[0m     result \u001b[38;5;241m=\u001b[39m \u001b[38;5;28;01mNone\u001b[39;00m\n",
      "Cell \u001b[0;32mIn[14], line 21\u001b[0m, in \u001b[0;36mPPCA.forward\u001b[0;34m(self, x)\u001b[0m\n\u001b[1;32m     18\u001b[0m Sigma \u001b[38;5;241m=\u001b[39m \u001b[38;5;28mself\u001b[39m\u001b[38;5;241m.\u001b[39mW \u001b[38;5;241m@\u001b[39m \u001b[38;5;28mself\u001b[39m\u001b[38;5;241m.\u001b[39mW\u001b[38;5;241m.\u001b[39mt() \u001b[38;5;241m+\u001b[39m torch\u001b[38;5;241m.\u001b[39mdiag(sigma \u001b[38;5;241m*\u001b[39m\u001b[38;5;241m*\u001b[39m \u001b[38;5;241m2\u001b[39m)  \u001b[38;5;66;03m# Shape: [D, D]\u001b[39;00m\n\u001b[1;32m     20\u001b[0m \u001b[38;5;66;03m# Compute (x - mu)\u001b[39;00m\n\u001b[0;32m---> 21\u001b[0m x_centered \u001b[38;5;241m=\u001b[39m x \u001b[38;5;241m-\u001b[39m \u001b[38;5;28mself\u001b[39m\u001b[38;5;241m.\u001b[39mmu  \u001b[38;5;66;03m# Shape: [batch_size, D]\u001b[39;00m\n\u001b[1;32m     23\u001b[0m \u001b[38;5;66;03m# Compute Sigma inverse and log determinant using Cholesky decomposition\u001b[39;00m\n\u001b[1;32m     24\u001b[0m \u001b[38;5;66;03m# Adding a small epsilon for numerical stability\u001b[39;00m\n\u001b[1;32m     25\u001b[0m epsilon \u001b[38;5;241m=\u001b[39m \u001b[38;5;241m1e-6\u001b[39m\n",
      "File \u001b[0;32m/opt/anaconda3/lib/python3.12/site-packages/torch/nn/modules/module.py:1716\u001b[0m, in \u001b[0;36mModule.__getattr__\u001b[0;34m(self, name)\u001b[0m\n\u001b[1;32m   1707\u001b[0m         \u001b[38;5;28mself\u001b[39m\u001b[38;5;241m.\u001b[39m_backward_pre_hooks \u001b[38;5;241m=\u001b[39m OrderedDict()\n\u001b[1;32m   1709\u001b[0m \u001b[38;5;66;03m# On the return type:\u001b[39;00m\n\u001b[1;32m   1710\u001b[0m \u001b[38;5;66;03m# We choose to return `Any` in the `__getattr__` type signature instead of a more strict `Union[Tensor, Module]`.\u001b[39;00m\n\u001b[1;32m   1711\u001b[0m \u001b[38;5;66;03m# This is done for better interop with various type checkers for the end users.\u001b[39;00m\n\u001b[0;32m   (...)\u001b[0m\n\u001b[1;32m   1714\u001b[0m \u001b[38;5;66;03m# See full discussion on the problems with returning `Union` here\u001b[39;00m\n\u001b[1;32m   1715\u001b[0m \u001b[38;5;66;03m# https://github.com/microsoft/pyright/issues/4213\u001b[39;00m\n\u001b[0;32m-> 1716\u001b[0m \u001b[38;5;28;01mdef\u001b[39;00m \u001b[38;5;21m__getattr__\u001b[39m(\u001b[38;5;28mself\u001b[39m, name: \u001b[38;5;28mstr\u001b[39m) \u001b[38;5;241m-\u001b[39m\u001b[38;5;241m>\u001b[39m Any:\n\u001b[1;32m   1717\u001b[0m     \u001b[38;5;28;01mif\u001b[39;00m \u001b[38;5;124m'\u001b[39m\u001b[38;5;124m_parameters\u001b[39m\u001b[38;5;124m'\u001b[39m \u001b[38;5;129;01min\u001b[39;00m \u001b[38;5;28mself\u001b[39m\u001b[38;5;241m.\u001b[39m\u001b[38;5;18m__dict__\u001b[39m:\n\u001b[1;32m   1718\u001b[0m         _parameters \u001b[38;5;241m=\u001b[39m \u001b[38;5;28mself\u001b[39m\u001b[38;5;241m.\u001b[39m\u001b[38;5;18m__dict__\u001b[39m[\u001b[38;5;124m'\u001b[39m\u001b[38;5;124m_parameters\u001b[39m\u001b[38;5;124m'\u001b[39m]\n",
      "\u001b[0;31mKeyboardInterrupt\u001b[0m: "
     ]
    }
   ],
   "source": [
    "# Define device\n",
    "device = torch.device('cuda' if torch.cuda.is_available() else 'cpu')\n",
    "print(f'Using device: {device}')\n",
    "\n",
    "# Load MNIST dataset\n",
    "transform = transforms.Compose([\n",
    "    transforms.ToTensor(),\n",
    "])\n",
    "\n",
    "train_dataset = datasets.MNIST(root='./data',\n",
    "                               train=True,\n",
    "                               transform=transform,\n",
    "                               download=True)\n",
    "\n",
    "test_dataset = datasets.MNIST(root='./data',\n",
    "                              train=False,\n",
    "                              transform=transform,\n",
    "                              download=True)\n",
    "\n",
    "batch_size = 128\n",
    "train_loader = DataLoader(dataset=train_dataset,\n",
    "                          batch_size=batch_size,\n",
    "                          shuffle=True)\n",
    "\n",
    "test_loader = DataLoader(dataset=test_dataset,\n",
    "                         batch_size=batch_size,\n",
    "                         shuffle=False)\n",
    "\n",
    "# Define latent dimensions to experiment with\n",
    "latent_dims = [2, 4, 8, 32]\n",
    "\n",
    "# Iterate over different latent dimensions\n",
    "for latent_dim in latent_dims:\n",
    "    print(f\"\\n=== Training PPCA with latent dimension: {latent_dim} ===\")\n",
    "    model = train_ppca(latent_dim=latent_dim, \n",
    "                      train_loader=train_loader, \n",
    "                      device=device, \n",
    "                      num_epochs=50, \n",
    "                      learning_rate=1e-3)\n",
    "    \n",
    "    # Visualize the latent space\n",
    "    visualize_latent_space(model, test_loader, device, latent_dim)\n",
    "    \n",
    "    # Generate new samples\n",
    "    generate_samples(model, device, latent_dim, num_samples=10)\n"
   ]
  },
  {
   "cell_type": "code",
   "execution_count": null,
   "metadata": {},
   "outputs": [],
   "source": []
  }
 ],
 "metadata": {
  "kernelspec": {
   "display_name": "base",
   "language": "python",
   "name": "python3"
  },
  "language_info": {
   "codemirror_mode": {
    "name": "ipython",
    "version": 3
   },
   "file_extension": ".py",
   "mimetype": "text/x-python",
   "name": "python",
   "nbconvert_exporter": "python",
   "pygments_lexer": "ipython3",
   "version": "3.12.4"
  }
 },
 "nbformat": 4,
 "nbformat_minor": 2
}
