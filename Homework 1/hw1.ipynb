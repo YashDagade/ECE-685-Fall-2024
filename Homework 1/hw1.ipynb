{
 "cells": [
  {
   "cell_type": "code",
   "execution_count": 1,
   "metadata": {},
   "outputs": [
    {
     "name": "stdout",
     "output_type": "stream",
     "text": [
      "Estimated output: [[-2.33312136e+01]\n",
      " [ 1.19804334e-01]\n",
      " [ 1.03865809e-01]\n",
      " [ 8.79343215e-02]\n",
      " [-1.49918419e-01]\n",
      " [ 2.92224595e-01]\n",
      " [ 1.80862148e-02]\n",
      " [ 2.01903511e-02]\n",
      " [ 1.14222068e-01]]\n"
     ]
    }
   ],
   "source": [
    "import numpy as np\n",
    "import pandas as pd\n",
    "from sklearn.model_selection import train_test_split\n",
    "\n",
    "# Load the dataset\n",
    "data = pd.read_csv('concrete_data_yeh.csv')\n",
    "\n",
    "# Extract independent variables (X) and dependent variable (Y - 'csMPa')\n",
    "X = data[['cement', 'slag', 'flyash', 'water', 'superplasticizer', 'coarseaggregate', 'fineaggregate', 'age']].values\n",
    "Y = data['csMPa'].values.reshape(-1, 1)\n",
    "\n",
    "# Add a bias term (column of ones) to X (this is basically like a dummy variable - I add it at the start of the matrix)\n",
    "X_bias = np.hstack([np.ones((X.shape[0], 1)), X])\n",
    "\n",
    "# Compute output using the analtyical solution given in the classroom\n",
    "output_0 = np.linalg.inv(X_bias.T @ X_bias) @ X_bias.T @ Y\n",
    "\n",
    "print(\"Estimated output:\", output_0)\n"
   ]
  },
  {
   "cell_type": "code",
   "execution_count": 3,
   "metadata": {},
   "outputs": [
    {
     "name": "stdout",
     "output_type": "stream",
     "text": [
      "MSE with 7 features: 155.31146876288008\n",
      "MSE with 8 features: 101.58139562952697\n",
      "MSE with 9 features: 101.58139562952697\n"
     ]
    }
   ],
   "source": [
    "from sklearn.metrics import mean_squared_error as mse\n",
    "\n",
    "# Split the data into training and validation sets (75% training, 25% validation)\n",
    "X_train, X_val, Y_train, Y_val = train_test_split(X_bias, Y, test_size=0.25, random_state=42)\n",
    "\n",
    "# Function to train a linear model and calculate MSE\n",
    "def train_and_evaluate(X_train, Y_train, X_val, Y_val, num_features):\n",
    "    X_train_subset = X_train[:, :num_features+1]  # +1 to account for bias term\n",
    "    X_val_subset = X_val[:, :num_features+1] # same same\n",
    "    \n",
    "    # Compute output for the subset of features\n",
    "    output = np.linalg.inv(X_train_subset.T @ X_train_subset) @ X_train_subset.T @ Y_train\n",
    "    \n",
    "    # Predictions on validation set\n",
    "    Y_pred = X_val_subset @ output\n",
    "    \n",
    "    # Calculate MSE\n",
    "    error = mse(Y_val, Y_pred)\n",
    "    \n",
    "    return error, output\n",
    "\n",
    "# Train models with 7, 8, and 9 features\n",
    "mse_7, beta_7 = train_and_evaluate(X_train, Y_train, X_val, Y_val, 7)\n",
    "mse_8, beta_8 = train_and_evaluate(X_train, Y_train, X_val, Y_val, 8)\n",
    "mse_9, beta_9 = train_and_evaluate(X_train, Y_train, X_val, Y_val, 9)\n",
    "\n",
    "print(f'MSE with 7 features: {mse_7}')\n",
    "print(f'MSE with 8 features: {mse_8}')\n",
    "print(f'MSE with 9 features: {mse_9}')\n"
   ]
  },
  {
   "cell_type": "markdown",
   "metadata": {},
   "source": [
    "# Write-up for Problem 1\n",
    "\n",
    "### What do you observe from the MSE results of these models? Do models with more independent variables always perform better? You may select any combination of independent variables for your models.\n",
    "\n",
    "Models with more variables don't necessarily improve accuracy. In fact, it can even suggest overfitting (I believe this is why techniques like pruning exist). For instance, in our model, the MSE error did not drop from 101.58 between feature 8 and feature 9.\n",
    "\n",
    "<br>\n",
    "\n",
    "<br>\n",
    "\n",
    "# Problem 2 Now"
   ]
  },
  {
   "cell_type": "code",
   "execution_count": 23,
   "metadata": {},
   "outputs": [],
   "source": [
    "import torch\n",
    "import torch.nn.functional as F\n",
    "from torch.utils.data import DataLoader\n",
    "import numpy as np\n",
    "import matplotlib.pyplot as plt\n",
    "from torchvision import datasets, transforms\n",
    "\n",
    "\n",
    "# Load MNIST dataset\n",
    "transform = transforms.Compose([transforms.ToTensor()])\n",
    "train_data = datasets.MNIST(root='./data', train=True, download=True, transform=transform)\n",
    "test_data = datasets.MNIST(root='./data', train=False, download=True, transform=transform)\n",
    "\n",
    "train_loader = DataLoader(train_data, batch_size=64, shuffle=True) # I asked in ed about what it means for us to do SGD from scratch and the\n",
    "# said this should be okay - as long as I do the SGD calculations myself then it's fine to use the DataLoader to get the batches\n",
    "test_loader = DataLoader(test_data, batch_size=64, shuffle=False)\n",
    "\n",
    "# train data is 60,000 images of 28x28 pixels and test data is 10,000 images of 28x28 pixels\n"
   ]
  },
  {
   "cell_type": "code",
   "execution_count": 24,
   "metadata": {},
   "outputs": [
    {
     "name": "stdout",
     "output_type": "stream",
     "text": [
      "Using device: mps\n"
     ]
    }
   ],
   "source": [
    "# Apple Silicon acceleration :)\n",
    "device = torch.device(\"mps\" if torch.backends.mps.is_available() else \"cpu\")\n",
    "\n",
    "print(f'Using device: {device}')"
   ]
  },
  {
   "cell_type": "code",
   "execution_count": 25,
   "metadata": {},
   "outputs": [
    {
     "data": {
      "text/plain": [
       "extractor(\n",
       "  (conv1): Sequential(\n",
       "    (0): Conv2d(1, 16, kernel_size=(5, 5), stride=(1, 1), padding=(2, 2))\n",
       "    (1): ReLU()\n",
       "    (2): MaxPool2d(kernel_size=2, stride=2, padding=0, dilation=1, ceil_mode=False)\n",
       "  )\n",
       "  (conv2): Sequential(\n",
       "    (0): Conv2d(16, 32, kernel_size=(5, 5), stride=(1, 1), padding=(2, 2))\n",
       "    (1): ReLU()\n",
       "    (2): MaxPool2d(kernel_size=2, stride=2, padding=0, dilation=1, ceil_mode=False)\n",
       "  )\n",
       "  (dim_redu): Sequential(\n",
       "    (0): Linear(in_features=1568, out_features=256, bias=True)\n",
       "    (1): Tanh()\n",
       "  )\n",
       ")"
      ]
     },
     "execution_count": 25,
     "metadata": {},
     "output_type": "execute_result"
    }
   ],
   "source": [
    "# Load the pre-trained feature extractor (encoder.py is assumed to be imported)\n",
    "from Encoder import extractor\n",
    "feature_extractor = extractor().to(device) # using the gpu\n",
    "feature_extractor.load_state_dict(torch.load('feature_extractor_weights.pth', map_location=device))\n",
    "feature_extractor.eval()  # Set to evaluation mode"
   ]
  },
  {
   "cell_type": "code",
   "execution_count": 26,
   "metadata": {},
   "outputs": [],
   "source": [
    "# Initialize logistic regression model with random weights - we could do zeros too but no need to\n",
    "def initialize_logistic_model(input_dim, num_classes):\n",
    "    W = torch.randn((input_dim, num_classes), device=device) * 0.01  # Random initialization with small values\n",
    "    b = torch.randn((1, num_classes), device=device) * 0.01\n",
    "    return W, b\n",
    "\n",
    "# Softmax function using PyTorch for GPU computation\n",
    "def softmax(x):\n",
    "    exp_x = torch.exp(x - torch.max(x, dim=1, keepdim=True)[0])\n",
    "    return exp_x / torch.sum(exp_x, dim=1, keepdim=True)\n",
    "\n",
    "# Cross-entropy loss function\n",
    "def cross_entropy_loss(y_pred, y_true):\n",
    "    m = y_true.shape[0]\n",
    "    neg_log_likelihood = -torch.log(y_pred[range(m), y_true])\n",
    "    return torch.sum(neg_log_likelihood) / m\n",
    "\n",
    "# SGD update\n",
    "def sgd_update(W, b, dW, db, eta):\n",
    "    W -= eta * dW\n",
    "    b -= eta * db\n",
    "    return W, b\n"
   ]
  },
  {
   "cell_type": "code",
   "execution_count": 27,
   "metadata": {},
   "outputs": [],
   "source": [
    "\n",
    "def train_logistic_regression(feature_extractor, train_loader, input_dim, num_classes, eta, num_epochs):\n",
    "    W, b = initialize_logistic_model(input_dim, num_classes)\n",
    "    train_losses = []\n",
    "    \n",
    "    for epoch in range(num_epochs):\n",
    "        epoch_loss = 0\n",
    "        for images, labels in train_loader:\n",
    "            images, labels = images.to(device), labels.to(device)\n",
    "            \n",
    "            # Extract latent features from the feature extractor\n",
    "            with torch.no_grad():\n",
    "                latent_features = feature_extractor(images).to(device)\n",
    "            \n",
    "            # Forward pass: compute logits and apply softmax\n",
    "            input = torch.mm(latent_features, W) + b\n",
    "            y_pred = softmax(input)\n",
    "            \n",
    "            # Compute loss\n",
    "            loss = cross_entropy_loss(y_pred, labels)\n",
    "            epoch_loss += loss.item()\n",
    "            \n",
    "            # Backward pass: compute gradients\n",
    "            m = labels.size(0)\n",
    "            y_pred[range(m), labels] -= 1  # Subtract 1 from the correct class probabilities\n",
    "            dW = torch.mm(latent_features.T, y_pred) / m\n",
    "            db = torch.sum(y_pred, dim=0, keepdim=True) / m\n",
    "            \n",
    "            # Update weights and bias using SGD\n",
    "            W, b = sgd_update(W, b, dW, db, eta)\n",
    "        \n",
    "        # Average epoch loss\n",
    "        epoch_loss /= len(train_loader)\n",
    "        train_losses.append(epoch_loss)\n",
    "        print(f'Epoch {epoch+1}/{num_epochs}, Loss: {epoch_loss}')\n",
    "    \n",
    "    return W, b, train_losses\n",
    "\n"
   ]
  },
  {
   "cell_type": "code",
   "execution_count": 28,
   "metadata": {},
   "outputs": [
    {
     "name": "stdout",
     "output_type": "stream",
     "text": [
      "Epoch 1/10, Loss: 0.03473687187871779\n",
      "Epoch 2/10, Loss: 0.00909789131250856\n",
      "Epoch 3/10, Loss: 0.006260362443147299\n",
      "Epoch 4/10, Loss: 0.004889616565578413\n",
      "Epoch 5/10, Loss: 0.00406411702645747\n",
      "Epoch 6/10, Loss: 0.003495041559348434\n",
      "Epoch 7/10, Loss: 0.0030777602856718765\n",
      "Epoch 8/10, Loss: 0.002772790856172528\n",
      "Epoch 9/10, Loss: 0.0025113674067109744\n",
      "Epoch 10/10, Loss: 0.002314819006033295\n"
     ]
    }
   ],
   "source": [
    "# Train the model on the MPS device (GPU)\n",
    "input_dim = 256  # Output dimension of the feature extractor\n",
    "num_classes = 10  # MNIST has 10 classes\n",
    "eta = 0.1  # Learning rate\n",
    "num_epochs = 10\n",
    "\n",
    "W, b, train_losses = train_logistic_regression(feature_extractor, train_loader, input_dim, num_classes, eta, num_epochs)\n",
    "\n"
   ]
  },
  {
   "cell_type": "code",
   "execution_count": 29,
   "metadata": {},
   "outputs": [
    {
     "data": {
      "image/png": "[encoded data removed]",
      "text/plain": [
       "<Figure size 640x480 with 1 Axes>"
      ]
     },
     "metadata": {},
     "output_type": "display_data"
    }
   ],
   "source": [
    "# Plot the training loss\n",
    "plt.plot(range(1, num_epochs + 1), train_losses, label='Training Loss')\n",
    "plt.xlabel('Epoch')\n",
    "plt.ylabel('Loss')\n",
    "plt.title('Training Loss vs Epochs')\n",
    "plt.legend()\n",
    "plt.show()"
   ]
  },
  {
   "cell_type": "code",
   "execution_count": 30,
   "metadata": {},
   "outputs": [
    {
     "name": "stdout",
     "output_type": "stream",
     "text": [
      "Validation accuracy: 99.05%\n"
     ]
    }
   ],
   "source": [
    "# validaton accuracy\n",
    "correct = 0\n",
    "total = 0\n",
    "\n",
    "for images, labels in test_loader:\n",
    "    images, labels = images.to(device), labels.to(device)\n",
    "    \n",
    "    # Extract latent features from the feature extractor\n",
    "    with torch.no_grad():\n",
    "        latent_features = feature_extractor(images).to(device)\n",
    "    \n",
    "    # Forward pass: compute logits and apply softmax\n",
    "    input = torch.mm(latent_features, W) + b\n",
    "    y_pred = softmax(input)\n",
    "    \n",
    "    _, predicted = torch.max(y_pred, 1)\n",
    "    \n",
    "    # Total number of labels\n",
    "    total += labels.size(0)\n",
    "    \n",
    "    # Total number of correct predictions\n",
    "    correct += (predicted == labels).sum().item()\n",
    "\n",
    "accuracy = correct / total\n",
    "\n",
    "print(f'Validation accuracy: {accuracy * 100:.2f}%')"
   ]
  },
  {
   "cell_type": "markdown",
   "metadata": {},
   "source": [
    "# Problem 3 done on pen and paper and submitted as a PDF\n",
    "\n",
    "You can find the PDF labeled [HW1Q3](./HW1Q3.pdf) in this same repo."
   ]
  }
 ],
 "metadata": {
  "kernelspec": {
   "display_name": "Python 3",
   "language": "python",
   "name": "python3"
  },
  "language_info": {
   "codemirror_mode": {
    "name": "ipython",
    "version": 3
   },
   "file_extension": ".py",
   "mimetype": "text/x-python",
   "name": "python",
   "nbconvert_exporter": "python",
   "pygments_lexer": "ipython3",
   "version": "3.9.6"
  }
 },
 "nbformat": 4,
 "nbformat_minor": 2
}
