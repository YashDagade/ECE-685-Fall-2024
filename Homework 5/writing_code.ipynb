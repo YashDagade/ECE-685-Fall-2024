{
 "cells": [
  {
   "cell_type": "code",
   "execution_count": 11,
   "metadata": {},
   "outputs": [],
   "source": [
    "import torch \n",
    "import torch.nn as nn\n",
    "import torch.nn.functional as F\n",
    "from torch.optim import Adam\n",
    "from torch.utils.data import DataLoader, random_split, Dataset\n",
    "import torchvision\n",
    "from torchvision.transforms import transforms\n",
    "from torchvision.utils import make_grid\n",
    "import matplotlib.pyplot as plt\n",
    "import numpy as np\n",
    "from sklearn.manifold import TSNE\n",
    "import os\n",
    "from typing import Tuple\n"
   ]
  },
  {
   "cell_type": "code",
   "execution_count": 13,
   "metadata": {},
   "outputs": [
    {
     "name": "stdout",
     "output_type": "stream",
     "text": [
      "using device: mps\n"
     ]
    }
   ],
   "source": [
    "torch.manual_seed(42)\n",
    "np.random.seed(42)\n",
    "\n",
    "device: torch.device = torch.device(\"mps\" if torch.backends.mps.is_available() else \"cuda\" if torch.cuda.is_available() else \"cpu\")\n",
    "print(f'using device: {device}')"
   ]
  },
  {
   "cell_type": "code",
   "execution_count": null,
   "metadata": {},
   "outputs": [],
   "source": [
    "# Intresting we always set hyperparameters at the top of the file\n",
    "\n",
    "learning_rate: float = 1e-3\n",
    "batch_size: int = 128\n",
    "num_epochs: int = 15\n",
    "validation_split: float = 0.2\n",
    "z_dim: int = 128 # for CAFIR let's use a bigger latent space"
   ]
  },
  {
   "cell_type": "code",
   "execution_count": 18,
   "metadata": {},
   "outputs": [],
   "source": [
    "os.makedirs('CIFAR_model', exist_ok=True)"
   ]
  },
  {
   "cell_type": "code",
   "execution_count": 20,
   "metadata": {},
   "outputs": [
    {
     "name": "stdout",
     "output_type": "stream",
     "text": [
      "Downloading https://www.cs.toronto.edu/~kriz/cifar-10-python.tar.gz to data/cifar-10-python.tar.gz\n"
     ]
    },
    {
     "name": "stderr",
     "output_type": "stream",
     "text": [
      "100%|██████████| 170498071/170498071 [00:06<00:00, 26822591.81it/s]\n"
     ]
    },
    {
     "name": "stdout",
     "output_type": "stream",
     "text": [
      "Extracting data/cifar-10-python.tar.gz to data\n",
      "Files already downloaded and verified\n",
      "train set size: 40000, validation set size: 10000, test set size: 10000\n"
     ]
    }
   ],
   "source": [
    "# data Transoformations\n",
    "\n",
    "transform: transforms.Compose = transforms.Compose([\n",
    "    transforms.ToTensor()\n",
    "])\n",
    "\n",
    "# Let's do this on the CAFIR Datast\n",
    "\n",
    "\n",
    "\n",
    "train_val_set: torchvision.datasets.CIFAR10 = torchvision.datasets.CIFAR10(\n",
    "    root='data', \n",
    "    train=True,\n",
    "    download=True,\n",
    "    transform=transform\n",
    ")\n",
    "\n",
    "test_set: torchvision.datasets.CIFAR10 = torchvision.datasets.CIFAR10(\n",
    "    root='data',\n",
    "    train=False,\n",
    "    download=True,\n",
    "    transform=transform\n",
    ")\n",
    "\n",
    "# split the dataset into train and validation set\n",
    "\n",
    "num_train: int = int((1-validation_split)*len(train_val_set))\n",
    "num_val: int = len(train_val_set) - num_train\n",
    "train_set: Dataset\n",
    "val_set: Dataset\n",
    "train_set, val_set = random_split(train_val_set, [num_train, num_val]) # Okay I understand how random split works now, you enter the dataset and than you enter the lenghts you want to split into and it returns the datasets\n",
    "\n",
    "print(f'train set size: {len(train_set)}, validation set size: {len(val_set)}, test set size: {len(test_set)}')"
   ]
  },
  {
   "cell_type": "code",
   "execution_count": 26,
   "metadata": {},
   "outputs": [],
   "source": [
    "# Dataloader - tehse are the things we iterate over\n",
    "\n",
    "train_laoder: DataLoader = DataLoader(\n",
    "    dataset=train_set,\n",
    "    batch_size=batch_size,\n",
    "    shuffle=True,\n",
    "    num_workers=4, \n",
    "    pin_memory=True\n",
    ")\n",
    "\n",
    "val_loaer: DataLoader = DataLoader(\n",
    "    dataset=val_set,\n",
    "    batch_size=batch_size,\n",
    "    shuffle=False,\n",
    "    num_workers=4,\n",
    "    pin_memory=True\n",
    ")\n",
    "\n",
    "train_loader: DataLoader = DataLoader(\n",
    "    dataset=train_set,\n",
    "    batch_size=batch_size,\n",
    "    shuffle=False,\n",
    "    num_workers=4,\n",
    "    pin_memory=True,\n",
    ")\n",
    "\n",
    "def one_hot(labels: torch.Tensor, num_classes: int = 10) -> torch.Tensor:\n",
    "    return torch.nn.functional.one_hot(labels, num_classes=num_classes).float()"
   ]
  },
  {
   "cell_type": "code",
   "execution_count": null,
   "metadata": {},
   "outputs": [],
   "source": [
    "# VAE Implementation\n",
    "\n",
    "\n",
    "class ConvVAE(nn.Module):\n",
    "    \n",
    "    def __init__(self, z_dim: int = 128) -> None:\n",
    "        super(ConvVAE, self).__init__()\n",
    "        self.z_dim=z_dim\n",
    "        \n",
    "        # Encoder\n",
    "        self.encoder:nn.Sequential = nn.Sequential(\n",
    "            nn.Conv2d(in_channels=3,\n",
    "                      out_channels=32,\n",
    "                      kernel_size=4,\n",
    "                      stride=2,\n",
    "                      padding=1), # 32 x 16 x 16 (because of stride 2)\n",
    "            nn.ReLU(),\n",
    "            nn.Conv2d(\n",
    "                in_channels=32,\n",
    "                out_channels=64,\n",
    "                kernel_size=4,\n",
    "                stride=2,\n",
    "                padding=1\n",
    "            ), # 64 x 8 x 8\n",
    "            nn.ReLU(),\n",
    "            nn.Conv2d(\n",
    "                in_channels=64,\n",
    "                out_channels=128,\n",
    "                kernel_size=4,\n",
    "                stride=2,\n",
    "                padding=1\n",
    "            ), # 128 x 4 x 4\n",
    "            nn.ReLU(),\n",
    "            nn.Flatten(),\n",
    "            nn.Linear(128*4*4, 512), \n",
    "            nn.ReLU()\n",
    "        )\n",
    "        self.fc_mu: nn.Linear = nn.Linear(512, z_dim)\n",
    "        self.fc_logvar: nn.Linear = nn.Linear(512, z_dim)\n",
    "        \n",
    "        # Decoder\n",
    "        \n",
    "        self.decoder_fc: nn.Linear = nn.Linear(z_dim, 512) # decoder takes in the the input of the encoder and outputs the image means\n",
    "        self.decoder: nn.Sequential = nn.Sequential(\n",
    "            nn.ReLU(),\n",
    "            nn.Linear(512, 128*4*4),\n",
    "            nn.ReLU(),\n",
    "            nn.Unflatten(dim=1, unflattened_size=(128, 4, 4)),\n",
    "            nn.ConvTranspose2d(\n",
    "                in_channels=128,\n",
    "                out_channels=64,\n",
    "                kernel_size=4,\n",
    "                stride=2,\n",
    "                padding=1\n",
    "            ), # 64 x 8 x 8\n",
    "            nn.ReLU(),\n",
    "            nn.ConvTranspose2d(\n",
    "                in_channels=64,\n",
    "                out_channels=32,\n",
    "                kernel_size=4,\n",
    "                stride=2,\n",
    "                padding=1\n",
    "            ), # 32 x 16 x 16\n",
    "            nn.ReLU(),\n",
    "            nn.ConvTranspose2d(\n",
    "                in_channels=32,\n",
    "                out_channels=3,\n",
    "                kernel_size=4,\n",
    "                stride=2,\n",
    "                padding=1\n",
    "            ), # 3 x 32 x 32\n",
    "            nn.Tanh()\n",
    "        )\n",
    "        \n",
    "    def encode(self, x: torch.Tensor) -> Tuple[torch.Tensor, torch.Tensor]:\n",
    "        h: torch.Tensor = self.encoder(x) # h is x x 512\n",
    "        mu: torch.Tensor = self.fc_mu(h) # mu is x x z_dim\n",
    "        logvar: torch.Tensor = self.fc_logvar(h) # logvar is x x z_dim\n",
    "        return mu, logvar # we return the mean and the logvariance - not their samples\n",
    "    \n",
    "    def reparameterize(self, mu:torch.Tensor, logvar: torch.Tensor) -> torch.Tensor:\n",
    "        std: torch.Tensor = torch.exp(0.5*logvar)\n",
    "        eps: torch.Tensor = torch.randn_like(std)\n",
    "        return mu + eps*std\n",
    "    \n",
    "    def decode(self, z: torch.Tensor) -> torch.Tensor:\n",
    "        h: torch.Tensor = self.decoder_fc(z)\n",
    "        x_recon: torch.Tensor = self.decoder(h)\n",
    "        return x_recon"
   ]
  }
 ],
 "metadata": {
  "kernelspec": {
   "display_name": "base",
   "language": "python",
   "name": "python3"
  },
  "language_info": {
   "codemirror_mode": {
    "name": "ipython",
    "version": 3
   },
   "file_extension": ".py",
   "mimetype": "text/x-python",
   "name": "python",
   "nbconvert_exporter": "python",
   "pygments_lexer": "ipython3",
   "version": "3.12.4"
  }
 },
 "nbformat": 4,
 "nbformat_minor": 2
}
