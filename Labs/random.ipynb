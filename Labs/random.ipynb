{
 "cells": [
  {
   "cell_type": "code",
   "execution_count": 1,
   "metadata": {},
   "outputs": [
    {
     "name": "stdout",
     "output_type": "stream",
     "text": [
      "Epoch [1/10], Loss: 0.3013\n",
      "Epoch [2/10], Loss: 0.2991\n",
      "Epoch [3/10], Loss: 0.2969\n",
      "Epoch [4/10], Loss: 0.2949\n",
      "Epoch [5/10], Loss: 0.2929\n",
      "Epoch [6/10], Loss: 0.2910\n",
      "Epoch [7/10], Loss: 0.2891\n",
      "Epoch [8/10], Loss: 0.2873\n",
      "Epoch [9/10], Loss: 0.2856\n",
      "Epoch [10/10], Loss: 0.2839\n"
     ]
    }
   ],
   "source": [
    "import torch\n",
    "import torch.nn as nn\n",
    "import torch.optim as optim\n",
    "from torch.utils.tensorboard import SummaryWriter\n",
    "import numpy as np\n",
    "\n",
    "# Simple neural network with one hidden layer\n",
    "class SimpleNN(nn.Module):\n",
    "    def __init__(self):\n",
    "        super(SimpleNN, self).__init__()\n",
    "        self.fc1 = nn.Linear(2, 2)  # Input to hidden layer\n",
    "        self.fc2 = nn.Linear(2, 1)  # Hidden to output layer\n",
    "\n",
    "    def forward(self, x):\n",
    "        x = torch.relu(self.fc1(x))\n",
    "        x = self.fc2(x)\n",
    "        return x\n",
    "\n",
    "# Initialize the network\n",
    "model = SimpleNN()\n",
    "\n",
    "# Loss and optimizer\n",
    "criterion = nn.MSELoss()\n",
    "optimizer = optim.SGD(model.parameters(), lr=0.01)\n",
    "\n",
    "# Dummy data: 4 samples, 2 features each\n",
    "inputs = torch.tensor([[0.5, 0.3], [0.2, 0.8], [0.9, 0.4], [0.7, 0.6]])\n",
    "targets = torch.tensor([[1.0], [0.0], [1.0], [0.0]])\n",
    "\n",
    "# TensorBoard setup\n",
    "writer = SummaryWriter('runs/visualize_backprop')\n",
    "\n",
    "# **Add the model graph to TensorBoard**\n",
    "writer.add_graph(model, inputs)\n",
    "writer.flush()  # Ensure the graph is written to disk\n",
    "\n",
    "# Training loop\n",
    "for epoch in range(10):  # Run for 10 epochs\n",
    "    outputs = model(inputs)\n",
    "    loss = criterion(outputs, targets)\n",
    "\n",
    "    optimizer.zero_grad()  # Zero gradients\n",
    "    loss.backward()        # Backpropagation\n",
    "    optimizer.step()       # Update weights\n",
    "\n",
    "    # Log the loss value and gradients to TensorBoard\n",
    "    writer.add_scalar('Loss/train', loss.item(), epoch)\n",
    "    \n",
    "    # Log gradients and weights for each layer\n",
    "    for name, param in model.named_parameters():\n",
    "        writer.add_histogram(f'{name}.grad', param.grad, epoch)\n",
    "        writer.add_histogram(f'{name}.weights', param, epoch)\n",
    "\n",
    "    # Print the loss at each epoch\n",
    "    print(f'Epoch [{epoch+1}/10], Loss: {loss.item():.4f}')\n",
    "\n",
    "# Close the writer\n",
    "writer.close()\n"
   ]
  }
 ],
 "metadata": {
  "kernelspec": {
   "display_name": "Python 3",
   "language": "python",
   "name": "python3"
  },
  "language_info": {
   "codemirror_mode": {
    "name": "ipython",
    "version": 3
   },
   "file_extension": ".py",
   "mimetype": "text/x-python",
   "name": "python",
   "nbconvert_exporter": "python",
   "pygments_lexer": "ipython3",
   "version": "3.9.6"
  }
 },
 "nbformat": 4,
 "nbformat_minor": 2
}
