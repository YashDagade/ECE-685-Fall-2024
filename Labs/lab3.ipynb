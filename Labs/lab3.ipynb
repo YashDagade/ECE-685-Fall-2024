{
 "cells": [
  {
   "cell_type": "code",
   "execution_count": null,
   "metadata": {},
   "outputs": [],
   "source": [
    "# Pytorch is a deep learning framework\n",
    "\n",
    "#hopefully smaller training error results in smaller testing error - this is the theory of generalization\n",
    "\n",
    "import torch\n"
   ]
  }
 ],
 "metadata": {
  "language_info": {
   "name": "python"
  }
 },
 "nbformat": 4,
 "nbformat_minor": 2
}
